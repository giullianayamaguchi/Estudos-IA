{
 "cells": [
  {
   "cell_type": "markdown",
   "id": "c22ba016",
   "metadata": {},
   "source": [
    "# RouterChains - Cadeias de roteamento"
   ]
  },
  {
   "cell_type": "code",
   "execution_count": 6,
   "id": "01c8dae1",
   "metadata": {},
   "outputs": [
    {
     "data": {
      "text/plain": [
       "True"
      ]
     },
     "execution_count": 6,
     "metadata": {},
     "output_type": "execute_result"
    }
   ],
   "source": [
    "from langchain_google_genai import ChatGoogleGenerativeAI\n",
    "from langchain.prompts import ChatPromptTemplate, PromptTemplate\n",
    "from dotenv import load_dotenv # lib para acessar .env e chave API da Gemini\n",
    "\n",
    "from langchain.chains.llm import LLMChain\n",
    "from langchain.chains.router import MultiPromptChain\n",
    "from langchain.chains.router.llm_router import LLMRouterChain, RouterOutputParser\n",
    "from langchain.chains.router.multi_prompt_prompt import MULTI_PROMPT_ROUTER_TEMPLATE\n",
    "\n",
    "load_dotenv()"
   ]
  },
  {
   "cell_type": "code",
   "execution_count": 2,
   "id": "c3fa5632",
   "metadata": {},
   "outputs": [],
   "source": [
    "fis_template = ChatPromptTemplate.from_template(\"\"\"Você é um professor de física muito inteligente.\n",
    "Você é ótimo em responder perguntas sobre física de forma concisa\n",
    "e fácil de entender.\n",
    "Quando você não sabe a resposta para uma pergunta, você admite\n",
    "que não sabe.\n",
    "\n",
    "Aqui está uma pergunta: {input}\"\"\")\n",
    "\n",
    "mat_template = ChatPromptTemplate.from_template(\"\"\"Você é um matemático muito bom.\n",
    "Você é ótimo em responder perguntas de matemática.\n",
    "Você é tão bom porque consegue decompor\n",
    "problemas difíceis em suas partes componentes,\n",
    "responder às partes componentes e depois juntá-las\n",
    "para responder à pergunta mais ampla.\n",
    "\n",
    "Aqui está uma pergunta: {input}\"\"\")\n",
    "\n",
    "hist_template = ChatPromptTemplate.from_template(\"\"\"Você é um historiador muito bom.\n",
    "Você tem um excelente conhecimento e compreensão de pessoas,\n",
    "eventos e contextos de uma variedade de períodos históricos.\n",
    "Você tem a capacidade de pensar, refletir, debater, discutir e\n",
    "avaliar o passado. Você tem respeito pela evidência histórica\n",
    "e a capacidade de usá-la para apoiar suas explicações\n",
    "e julgamentos.\n",
    "\n",
    "Aqui está uma pergunta: {input}\"\"\")"
   ]
  },
  {
   "cell_type": "code",
   "execution_count": 3,
   "id": "6b95239f",
   "metadata": {},
   "outputs": [],
   "source": [
    "prompt_infos= [\n",
    "    {'name': 'Fisica',\n",
    "    'description': 'Ideal para responder perguntas de física',\n",
    "    'prompt_template': fis_template},\n",
    "    {'name': 'Matematica',\n",
    "    'description': 'Ideal para responder perguntas de matemática',\n",
    "    'prompt_template': mat_template},\n",
    "    {'name': 'Historia',\n",
    "    'description': 'Ideal para responder perguntas de história',\n",
    "    'prompt_template': hist_template}\n",
    "    ]"
   ]
  },
  {
   "cell_type": "code",
   "execution_count": 8,
   "id": "d5cc66e8",
   "metadata": {},
   "outputs": [
    {
     "data": {
      "text/plain": [
       "{'Fisica': LLMChain(verbose=True, prompt=ChatPromptTemplate(input_variables=['input'], input_types={}, partial_variables={}, messages=[HumanMessagePromptTemplate(prompt=PromptTemplate(input_variables=['input'], input_types={}, partial_variables={}, template='Você é um professor de física muito inteligente.\\nVocê é ótimo em responder perguntas sobre física de forma concisa\\ne fácil de entender.\\nQuando você não sabe a resposta para uma pergunta, você admite\\nque não sabe.\\n\\nAqui está uma pergunta: {input}'), additional_kwargs={})]), llm=ChatGoogleGenerativeAI(model='models/gemini-1.5-flash', google_api_key=SecretStr('**********'), client=<google.ai.generativelanguage_v1beta.services.generative_service.client.GenerativeServiceClient object at 0x000002333B3155B0>, default_metadata=()), output_parser=StrOutputParser(), llm_kwargs={}),\n",
       " 'Matematica': LLMChain(verbose=True, prompt=ChatPromptTemplate(input_variables=['input'], input_types={}, partial_variables={}, messages=[HumanMessagePromptTemplate(prompt=PromptTemplate(input_variables=['input'], input_types={}, partial_variables={}, template='Você é um matemático muito bom.\\nVocê é ótimo em responder perguntas de matemática.\\nVocê é tão bom porque consegue decompor\\nproblemas difíceis em suas partes componentes,\\nresponder às partes componentes e depois juntá-las\\npara responder à pergunta mais ampla.\\n\\nAqui está uma pergunta: {input}'), additional_kwargs={})]), llm=ChatGoogleGenerativeAI(model='models/gemini-1.5-flash', google_api_key=SecretStr('**********'), client=<google.ai.generativelanguage_v1beta.services.generative_service.client.GenerativeServiceClient object at 0x000002333B3155B0>, default_metadata=()), output_parser=StrOutputParser(), llm_kwargs={}),\n",
       " 'Historia': LLMChain(verbose=True, prompt=ChatPromptTemplate(input_variables=['input'], input_types={}, partial_variables={}, messages=[HumanMessagePromptTemplate(prompt=PromptTemplate(input_variables=['input'], input_types={}, partial_variables={}, template='Você é um historiador muito bom.\\nVocê tem um excelente conhecimento e compreensão de pessoas,\\neventos e contextos de uma variedade de períodos históricos.\\nVocê tem a capacidade de pensar, refletir, debater, discutir e\\navaliar o passado. Você tem respeito pela evidência histórica\\ne a capacidade de usá-la para apoiar suas explicações\\ne julgamentos.\\n\\nAqui está uma pergunta: {input}'), additional_kwargs={})]), llm=ChatGoogleGenerativeAI(model='models/gemini-1.5-flash', google_api_key=SecretStr('**********'), client=<google.ai.generativelanguage_v1beta.services.generative_service.client.GenerativeServiceClient object at 0x000002333B3155B0>, default_metadata=()), output_parser=StrOutputParser(), llm_kwargs={})}"
      ]
     },
     "execution_count": 8,
     "metadata": {},
     "output_type": "execute_result"
    }
   ],
   "source": [
    "chat = ChatGoogleGenerativeAI(model='gemini-1.5-flash')\n",
    "\n",
    "#Ciando chains de destino\n",
    "\n",
    "chains_destino = {}\n",
    "for info in prompt_infos:\n",
    "    chain = LLMChain(llm=chat, prompt=info['prompt_template'], verbose=True)\n",
    "    chains_destino[info['name']] = chain\n",
    "\n",
    "\n",
    "chains_destino"
   ]
  },
  {
   "cell_type": "code",
   "execution_count": 11,
   "id": "69862a97",
   "metadata": {},
   "outputs": [
    {
     "data": {
      "text/plain": [
       "'Fisica:Ideal para responder perguntas de física \\nMatematica:Ideal para responder perguntas de matemática \\nHistoria:Ideal para responder perguntas de história'"
      ]
     },
     "execution_count": 11,
     "metadata": {},
     "output_type": "execute_result"
    }
   ],
   "source": [
    "destinos = [f'{p[\"name\"]}:{p['description']}' for p in prompt_infos]\n",
    "\n",
    "destinos_str = ' \\n'.join(destinos)\n",
    "\n",
    "destinos_str"
   ]
  },
  {
   "cell_type": "code",
   "execution_count": 12,
   "id": "ecc69da1",
   "metadata": {},
   "outputs": [
    {
     "name": "stdout",
     "output_type": "stream",
     "text": [
      "Given a raw text input to a language model select the model prompt best suited for the input. You will be given the names of the available prompts and a description of what the prompt is best suited for. You may also revise the original input if you think that revising it will ultimately lead to a better response from the language model.\n",
      "\n",
      "<< FORMATTING >>\n",
      "Return a markdown code snippet with a JSON object formatted to look like:\n",
      "```json\n",
      "{{\n",
      "    \"destination\": string \\ name of the prompt to use or \"DEFAULT\"\n",
      "    \"next_inputs\": string \\ a potentially modified version of the original input\n",
      "}}\n",
      "```\n",
      "\n",
      "REMEMBER: \"destination\" MUST be one of the candidate prompt names specified below OR it can be \"DEFAULT\" if the input is not well suited for any of the candidate prompts.\n",
      "REMEMBER: \"next_inputs\" can just be the original input if you don't think any modifications are needed.\n",
      "\n",
      "<< CANDIDATE PROMPTS >>\n",
      "Fisica:Ideal para responder perguntas de física \n",
      "Matematica:Ideal para responder perguntas de matemática \n",
      "Historia:Ideal para responder perguntas de história\n",
      "\n",
      "<< INPUT >>\n",
      "{input}\n",
      "\n",
      "<< OUTPUT (must include ```json at the start of the response) >>\n",
      "<< OUTPUT (must end with ```) >>\n",
      "\n"
     ]
    }
   ],
   "source": [
    "router_template = MULTI_PROMPT_ROUTER_TEMPLATE.format(\n",
    "    destinations=  destinos_str)\n",
    "\n",
    "print(router_template)"
   ]
  },
  {
   "cell_type": "code",
   "execution_count": 13,
   "id": "a3167084",
   "metadata": {},
   "outputs": [],
   "source": [
    "router_template = PromptTemplate(\n",
    "    template = router_template,\n",
    "    input_varibles=['input'],\n",
    "    output_parser=RouterOutputParser()\n",
    "    )\n",
    "\n",
    "router_chain  = LLMRouterChain.from_llm(chat, router_template, verbose=True)"
   ]
  },
  {
   "cell_type": "code",
   "execution_count": 14,
   "id": "f614daca",
   "metadata": {},
   "outputs": [],
   "source": [
    "default_prompt = ChatPromptTemplate.from_template('{input}')\n",
    "default_chain = LLMChain(llm=chat, prompt=default_prompt, verbose=True)"
   ]
  },
  {
   "cell_type": "code",
   "execution_count": 17,
   "id": "8a7360d7",
   "metadata": {},
   "outputs": [
    {
     "name": "stdout",
     "output_type": "stream",
     "text": [
      "\n",
      "\n",
      "\u001b[1m> Entering new MultiPromptChain chain...\u001b[0m\n",
      "\n",
      "\n",
      "\u001b[1m> Entering new LLMRouterChain chain...\u001b[0m\n",
      "\n",
      "\u001b[1m> Finished chain.\u001b[0m\n",
      "Fisica: {'input': 'O que é um buraco negro?'}\n",
      "\n",
      "\u001b[1m> Entering new LLMChain chain...\u001b[0m\n",
      "Prompt after formatting:\n",
      "\u001b[32;1m\u001b[1;3mHuman: Você é um professor de física muito inteligente.\n",
      "Você é ótimo em responder perguntas sobre física de forma concisa\n",
      "e fácil de entender.\n",
      "Quando você não sabe a resposta para uma pergunta, você admite\n",
      "que não sabe.\n",
      "\n",
      "Aqui está uma pergunta: O que é um buraco negro?\u001b[0m\n",
      "\n",
      "\u001b[1m> Finished chain.\u001b[0m\n",
      "\n",
      "\u001b[1m> Finished chain.\u001b[0m\n"
     ]
    },
    {
     "data": {
      "text/plain": [
       "{'input': 'O que é um buraco negro?',\n",
       " 'text': 'Um buraco negro é uma região do espaço-tempo com uma gravidade tão forte que nada, nem mesmo a luz, pode escapar.  Ele é formado pelo colapso gravitacional de uma estrela muito massiva.'}"
      ]
     },
     "execution_count": 17,
     "metadata": {},
     "output_type": "execute_result"
    }
   ],
   "source": [
    "chain = MultiPromptChain(router_chain = router_chain,\n",
    "                         destination_chains=chains_destino,\n",
    "                         default_chain=default_chain,\n",
    "                         verbose=True)\n",
    "\n",
    "chain.invoke({'input': 'O que é o  buraco negro?'})\n",
    "\n"
   ]
  },
  {
   "cell_type": "code",
   "execution_count": 18,
   "id": "04c0deeb",
   "metadata": {},
   "outputs": [
    {
     "name": "stdout",
     "output_type": "stream",
     "text": [
      "\n",
      "\n",
      "\u001b[1m> Entering new MultiPromptChain chain...\u001b[0m\n",
      "\n",
      "\n",
      "\u001b[1m> Entering new LLMRouterChain chain...\u001b[0m\n",
      "\n",
      "\u001b[1m> Finished chain.\u001b[0m\n",
      "Historia: {'input': 'Quando foi a revolução industrial?'}\n",
      "\n",
      "\u001b[1m> Entering new LLMChain chain...\u001b[0m\n",
      "Prompt after formatting:\n",
      "\u001b[32;1m\u001b[1;3mHuman: Você é um historiador muito bom.\n",
      "Você tem um excelente conhecimento e compreensão de pessoas,\n",
      "eventos e contextos de uma variedade de períodos históricos.\n",
      "Você tem a capacidade de pensar, refletir, debater, discutir e\n",
      "avaliar o passado. Você tem respeito pela evidência histórica\n",
      "e a capacidade de usá-la para apoiar suas explicações\n",
      "e julgamentos.\n",
      "\n",
      "Aqui está uma pergunta: Quando foi a revolução industrial?\u001b[0m\n",
      "\n",
      "\u001b[1m> Finished chain.\u001b[0m\n",
      "\n",
      "\u001b[1m> Finished chain.\u001b[0m\n"
     ]
    },
    {
     "data": {
      "text/plain": [
       "{'input': 'Quando foi a revolução industrial?',\n",
       " 'text': 'Não existe uma data única e precisa para o início da Revolução Industrial. Foi um processo gradual e complexo que se desenvolveu ao longo de várias décadas, e até mesmo séculos, com diferentes aspectos emergindo em diferentes lugares e momentos.  Não se tratou de um evento repentino, mas de uma transformação profunda e duradoura.\\n\\nNo entanto, a maioria dos historiadores aponta para a **segunda metade do século XVIII na Grã-Bretanha** como o período de início da Revolução Industrial.  Mais especificamente,  a década de **1760 a 1780** é frequentemente citada como um período crucial, marcado por inovações tecnológicas fundamentais que impulsionaram mudanças econômicas e sociais significativas.\\n\\nÉ importante destacar alguns pontos:\\n\\n* **Inovações tecnológicas:**  A invenção e aperfeiçoamento de máquinas como a máquina a vapor, o tear mecânico e a máquina de fiar algodão foram cruciais. Essas inovações aumentaram significativamente a produção e a eficiência.\\n* **Contexto britânico:**  A Grã-Bretanha possuía fatores favoráveis, como recursos naturais (carvão e ferro), mão de obra disponível (devido à transformação agrícola anterior), capital disponível para investimentos e um sistema político relativamente estável.\\n* **Processo gradual e contínuo:**  A Revolução Industrial não terminou abruptamente.  Ela se estendeu para o século XIX e além, com novas tecnologias e mudanças sociais contínuas.  A segunda Revolução Industrial, no final do século XIX, marcou uma nova fase, com a eletricidade e o aço como protagonistas.\\n* **Difusão global:**  A Revolução Industrial não se limitou à Grã-Bretanha.  Ela se espalhou para outros países da Europa e, posteriormente, para o resto do mundo, embora em ritmos e formas diferentes.\\n\\nEm resumo, enquanto não há uma data única, a **segunda metade do século XVIII na Grã-Bretanha** representa o período crucial para o início dessa transformação profunda que moldou o mundo moderno.  Mas é essencial entender que este foi um processo complexo, gradual e com longo alcance temporal e geográfico.'}"
      ]
     },
     "execution_count": 18,
     "metadata": {},
     "output_type": "execute_result"
    }
   ],
   "source": [
    "chain.invoke({'input': 'Quando foi a revolulção  industrial'})"
   ]
  }
 ],
 "metadata": {
  "kernelspec": {
   "display_name": ".venv",
   "language": "python",
   "name": "python3"
  },
  "language_info": {
   "codemirror_mode": {
    "name": "ipython",
    "version": 3
   },
   "file_extension": ".py",
   "mimetype": "text/x-python",
   "name": "python",
   "nbconvert_exporter": "python",
   "pygments_lexer": "ipython3",
   "version": "3.13.5"
  }
 },
 "nbformat": 4,
 "nbformat_minor": 5
}
