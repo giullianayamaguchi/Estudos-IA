{
 "cells": [
  {
   "cell_type": "markdown",
   "id": "2df77ccd",
   "metadata": {},
   "source": [
    "### Exemplo de Prompt para Inferência\n",
    "\n",
    "Determine cinco tópicos que estão sendo discutidos no texto a seguir, que é delimitado por ####.\n",
    "\n",
    "Faça cada item ter uma ou duas palavras.\n",
    "\n",
    "Formate sua resposta como uma lista de itens separados por vírgulas.\n",
    "\n",
    "####\n",
    "\n",
    "Em uma pesquisa recente conduzida pelo governo, os funcionários do setor público foram solicitados a avaliar seu nível de satisfação com o departamento em que trabalham.\n",
    "\n",
    "Os resultados revelaram que a NASA foi o departamento mais popular, com uma taxa de satisfação de 95%.\n",
    "\n",
    "Um funcionário da NASA, John Smith, comentou sobre os resultados, afirmando:  \n",
    "\"Não estou surpreso que a NASA tenha se destacado.  \n",
    "É um ótimo lugar para trabalhar, com pessoas incríveis e oportunidades incríveis.  \n",
    "Tenho orgulho de fazer parte de uma organização tão inovadora.\"\n",
    "\n",
    "Os resultados também foram bem recebidos pela equipe de gerenciamento da NASA, com o diretor Tom Johnson afirmando:  \n",
    "\"Estamos emocionados ao saber que nossos funcionários estão satisfeitos com seu trabalho na NASA.  \n",
    "Temos uma equipe talentosa e dedicada que trabalha incansavelmente para alcançar nossos objetivos,  \n",
    "e é fantástico ver que seu trabalho árduo está dando frutos.\"\n",
    "\n",
    "A pesquisa também revelou que a Administração da Previdência Social teve a menor pontuação de satisfação,  \n",
    "com apenas 45% dos funcionários indicando que estavam satisfeitos com seus empregos.\n",
    "\n",
    "O governo se comprometeu a abordar as preocupações levantadas pelos funcionários na pesquisa  \n",
    "e trabalhar para melhorar a satisfação no trabalho em todos os departamentos.\n",
    "\n",
    "####\n"
   ]
  },
  {
   "cell_type": "markdown",
   "id": "164baa36",
   "metadata": {},
   "source": [
    "### Exemplo de Prompt para Treinar LangChain com Schema\n",
    "\n",
    "Extraia do texto a seguir as seguintes informações no formato JSON:\n",
    "\n",
    "- **nome_evento**: Nome do evento.\n",
    "- **data**: Data do evento.\n",
    "- **local**: Cidade e país onde ocorrerá.\n",
    "- **organizadores**: Lista de organizadores.\n",
    "- **temas**: Lista de temas abordados.\n",
    "- **valor_ingresso**: Preço do ingresso em moeda local.\n",
    "\n",
    "Texto:\n",
    "\n",
    "\n",
    "O *Tech Future Conference 2025* acontecerá nos dias **14 e 15 de setembro de 2025**, em **Lisboa, Portugal**.  \n",
    "O evento será organizado pela **Future Minds** em parceria com a **InovaTech** e reunirá especialistas de várias áreas para discutir temas como **Inteligência Artificial**, **Blockchain**, **Computação Quântica** e **Tecnologias Sustentáveis**.  \n",
    "Os ingressos já estão à venda por **€249** e podem ser adquiridos no site oficial do evento.  \n",
    "A conferência contará com palestrantes internacionais, workshops práticos e sessões de networking voltadas para startups e investidores.\n"
   ]
  },
  {
   "cell_type": "code",
   "execution_count": 1,
   "id": "4c98be2f",
   "metadata": {},
   "outputs": [
    {
     "name": "stderr",
     "output_type": "stream",
     "text": [
      "c:\\Users\\user\\Documents\\Python\\venv\\Lib\\site-packages\\tqdm\\auto.py:21: TqdmWarning: IProgress not found. Please update jupyter and ipywidgets. See https://ipywidgets.readthedocs.io/en/stable/user_install.html\n",
      "  from .autonotebook import tqdm as notebook_tqdm\n"
     ]
    },
    {
     "data": {
      "text/plain": [
       "True"
      ]
     },
     "execution_count": 1,
     "metadata": {},
     "output_type": "execute_result"
    }
   ],
   "source": [
    "# import libs \n",
    "from langchain_google_genai import ChatGoogleGenerativeAI #lib para gemini\n",
    "from langchain.prompts import ChatPromptTemplate  # lib para prompt\n",
    "from dotenv import load_dotenv # lib para acessar .env e chave API da Gemini\n",
    "from langchain.output_parsers import ResponseSchema, StructuredOutputParser # libs para OutPut Parses\n",
    "\n",
    "load_dotenv() #carrega arquivo .env e pega a chave API\n"
   ]
  },
  {
   "cell_type": "code",
   "execution_count": 2,
   "id": "d0188e37",
   "metadata": {},
   "outputs": [],
   "source": [
    "# Texto para extrair\n",
    "\n",
    "Texto_evento = ' O Tech Future Conference 2025 acontecerá nos dias 14 e 15 de setembro de 2025, em Lisboa, Portugal. ' \\\n",
    "'O evento será organizado pela Future Minds em parceria com a InovaTech e reunirá especialistas de várias áreas para ' \\\n",
    "'discutir temas como Inteligência Artificial, Blockchain, Computação Quântica e Tecnologias Sustentáveis. ' \\\n",
    "'Os ingressos já estão à venda por €249 e podem ser adquiridos no site oficial do evento.A conferência contará com ' \\\n",
    "'palestrantes internacionais, workshops práticos e sessões de networking voltadas para startups e investidores.' "
   ]
  },
  {
   "cell_type": "code",
   "execution_count": 3,
   "id": "dfb3a562",
   "metadata": {},
   "outputs": [
    {
     "name": "stdout",
     "output_type": "stream",
     "text": [
      "The output should be a markdown code snippet formatted in the following schema, including the leading and trailing \"```json\" and \"```\":\n",
      "\n",
      "```json\n",
      "{\n",
      "\t\"nome_evento\": str  // Nome do evento em caso de mais de uma, separar por vírgula, caso não tenha nenhuma colocar como unterfuned\n",
      "\t\"data\": str  // Data do evento no formato de dia e mes(extenso) e ano em caso de mais de uma data para meses ou anos diferentes, separar por vírgula, caso não tenha nenhuma colocar como unterfuned e se for o mesmo mes e ando colocar junto os dias separando por \" e \"\n",
      "\t\"local\": str  // Cidade e país onde em caso de mais de uma, separar por vírgula, caso não tenha nenhuma colocar como unterfuned\n",
      "\t\"organizadores\": list  // Lista de organizadores, em caso de mais de uma, separar por vírgula, caso não tenha nenhuma colocar como unterfuned\n",
      "\t\"temas\": list  // Lista de temas abordados, em caso de mais de uma, separar por vírgula, caso não tenha nenhuma colocar como unterfuned\n",
      "\t\"valor_ingresso\": str  // Preço do ingresso em moeda local, caso não tenha nenhuma colocar como unterfuned\n",
      "}\n",
      "```\n"
     ]
    }
   ],
   "source": [
    "# criando Schema\n",
    "\n",
    "schema_evento = ResponseSchema(\n",
    "    name='nome_evento',\n",
    "    type='str',\n",
    "    description='Nome do evento em caso de mais de uma, separar por vírgula, caso não tenha nenhuma colocar como unterfuned'\n",
    ")\n",
    "\n",
    "schema_data = ResponseSchema(\n",
    "    name='data',\n",
    "    type='str',\n",
    "    description='Data do evento no formato de dia e mes(extenso) e ano em caso de mais de uma data para meses ou anos diferentes, separar por vírgula, ' \\\n",
    "    'caso não tenha nenhuma colocar como unterfuned e se for o mesmo mes e ando colocar junto os dias separando por \" e \"'    \n",
    ")\n",
    "\n",
    "schema_local = ResponseSchema(\n",
    "    name='local',\n",
    "    type='str',\n",
    "    description='Cidade e país onde em caso de mais de uma, separar por vírgula, caso não tenha nenhuma colocar como unterfuned'    \n",
    ")\n",
    "\n",
    "schema_organizadores = ResponseSchema( \n",
    "    name='organizadores',\n",
    "    type='list',\n",
    "    description='Lista de organizadores, em caso de mais de uma, separar por vírgula, caso não tenha nenhuma colocar como unterfuned'\n",
    ")\n",
    "\n",
    "schema_temas = ResponseSchema(\n",
    "    name='temas',\n",
    "    type='list',\n",
    "    description='Lista de temas abordados, em caso de mais de uma, separar por vírgula, caso não tenha nenhuma colocar como unterfuned'   \n",
    ")\n",
    "\n",
    "schema_ingresso = ResponseSchema(\n",
    "    name='valor_ingresso',\n",
    "    type='str',\n",
    "    description='Preço do ingresso em moeda local, caso não tenha nenhuma colocar como unterfuned'\n",
    ")\n",
    "\n",
    "response_schema = [schema_evento,\n",
    "                   schema_data,\n",
    "                   schema_local,\n",
    "                   schema_organizadores,\n",
    "                   schema_temas,\n",
    "                   schema_ingresso\n",
    "                \n",
    "    ]\n",
    "\n",
    "output_parser = StructuredOutputParser.from_response_schemas(response_schema)\n",
    "\n",
    "schema_formatado = output_parser.get_format_instructions()\n",
    "\n",
    "print(schema_formatado)"
   ]
  },
  {
   "cell_type": "code",
   "execution_count": 4,
   "id": "a05bb255",
   "metadata": {},
   "outputs": [],
   "source": [
    "# Enviando prompt para IA\n",
    "\n",
    "prompt_template = ChatPromptTemplate.from_template(\n",
    "\"\"\" \n",
    "Extraia do texto a seguir as seguintes informações no formato JSON:\n",
    "\n",
    "- **nome_evento**: Nome do evento.\n",
    "- **data**: Data do evento.\n",
    "- **local**: Cidade e país onde ocorrerá.\n",
    "- **organizadores**: Lista de organizadores.\n",
    "- **temas**: Lista de temas abordados.\n",
    "- **valor_ingresso**: Preço do ingresso em moeda local.\n",
    "\n",
    "Texto: {texto}\n",
    "\n",
    "{schema}\n",
    "\"\"\", partial_variables={'schema':schema_formatado})\n"
   ]
  },
  {
   "cell_type": "code",
   "execution_count": 5,
   "id": "07b83bbf",
   "metadata": {},
   "outputs": [
    {
     "name": "stdout",
     "output_type": "stream",
     "text": [
      "```json\n",
      "{\n",
      "  \"nome_evento\": \"Tech Future Conference 2025\",\n",
      "  \"data\": \"14 e 15 de setembro de 2025\",\n",
      "  \"local\": \"Lisboa, Portugal\",\n",
      "  \"organizadores\": [\"Future Minds\", \"InovaTech\"],\n",
      "  \"temas\": [\"Inteligência Artificial\", \"Blockchain\", \"Computação Quântica\", \"Tecnologias Sustentáveis\"],\n",
      "  \"valor_ingresso\": \"€249\"\n",
      "}\n",
      "```\n"
     ]
    }
   ],
   "source": [
    "llm = ChatGoogleGenerativeAI(model='gemini-1.5-flash')\n",
    "\n",
    "resposta = llm.invoke(prompt_template.format_messages(texto=Texto_evento))\n",
    "\n",
    "print(resposta.content)"
   ]
  },
  {
   "cell_type": "markdown",
   "id": "f938ab47",
   "metadata": {},
   "source": [
    "### Exemplo de Prompt para Treinar LangChain com Schema\n",
    "\n",
    "Extraia do texto a seguir as seguintes informações no formato JSON:\n",
    "\n",
    "- **Produto**: Produto.\n",
    "- **Presente**: Verdadeiro ou Falso.\n",
    "- **Sentimento**: sentimento na avaliação.\n",
    "- **Positivo**: Avaliação positiva ou negativa.\n",
    "- **comparação_mercado**: achou caro barato ou mesma média de valor.\n",
    "\n",
    "Texto:\n",
    "\n",
    "'Este soprador de folhas é bastante incrível. Ele tem quatro configurações: sopro de vela, brisa suave, cidade ventosa e tornado. ' \\\n",
    "'Chegou em dois dias, bem a tempo para o presente de aniversário da minha esposa. ' \\\n",
    "'Acho que minha esposa gostou tanto que ficou sem palavras. Até agora, fui o único a usá-lo, e tenho usado em todas as manhãs   ' \\\n",
    "'alternadas para limpar as folhas do nosso gramado. É um pouco mais caro do que os outros sopradores de folhas disponíveis no mercado, ' \\\n",
    "'mas acho que vale a pena pelas características extras.'\n"
   ]
  },
  {
   "cell_type": "code",
   "execution_count": 6,
   "id": "67aae1a2",
   "metadata": {},
   "outputs": [
    {
     "data": {
      "text/plain": [
       "True"
      ]
     },
     "execution_count": 6,
     "metadata": {},
     "output_type": "execute_result"
    }
   ],
   "source": [
    "# importando libs \n",
    "\n",
    "from langchain_google_genai import ChatGoogleGenerativeAI\n",
    "from langchain.prompts import ChatPromptTemplate\n",
    "\n",
    "from dotenv import load_dotenv\n",
    "\n",
    "from langchain.output_parsers import ResponseSchema, StructuredOutputParser\n",
    "\n",
    "load_dotenv() # carrega arquivo .env para pegar chave API"
   ]
  },
  {
   "cell_type": "code",
   "execution_count": 7,
   "id": "a7500ce7",
   "metadata": {},
   "outputs": [],
   "source": [
    "review_text = 'Este soprador de folhas é bastante incrível. Ele tem quatro configurações: sopro de vela, brisa suave, cidade ventosa e tornado. ' \\\n",
    "'Chegou em dois dias, bem a tempo para o presente de aniversário da minha esposa. ' \\\n",
    "'Acho que minha esposa gostou tanto que ficou sem palavras. Até agora, fui o único a usá-lo, e tenho usado em todas as manhãs   ' \\\n",
    "'alternadas para limpar as folhas do nosso gramado. É um pouco mais caro do que os outros sopradores de folhas disponíveis no mercado, ' \\\n",
    "'mas acho que vale a pena pelas características extras.'"
   ]
  },
  {
   "cell_type": "code",
   "execution_count": 8,
   "id": "ae81fd93",
   "metadata": {},
   "outputs": [
    {
     "name": "stdout",
     "output_type": "stream",
     "text": [
      "The output should be a markdown code snippet formatted in the following schema, including the leading and trailing \"```json\" and \"```\":\n",
      "\n",
      "```json\n",
      "{\n",
      "\t\"Produto\": str  // Nome do produto comprado, em caso de falta de informação colcoar como indefinite\n",
      "\t\"Presente\": bool  // Verdadeiro se for presenteFalso se não for presente eindefinite se não estiver a informação no texto\n",
      "\t\"Sentimento\": list   // coloque pelo menos 2 sentimentos da avaliação do produto\n",
      "\t\"Positivo\": str  // Forneça em uma única palavra o sentimento na avaliação do produto, seja \"Positiva\" ou \"Negativa\"\n",
      "\t\"comparação_mercado\": str  // o compardor achouu o produto mais caro ou mais barato que a concorrência\n",
      "}\n",
      "```\n"
     ]
    }
   ],
   "source": [
    "#Criando schemas\n",
    "schema_produto = ResponseSchema(\n",
    "    name='Produto',\n",
    "    type='str',\n",
    "    description='Nome do produto comprado, em caso de falta de informação colcoar como indefinite'\n",
    ")\n",
    "\n",
    "schema_Presente = ResponseSchema(\n",
    "    name='Presente',\n",
    "    type='bool',\n",
    "    description='Verdadeiro se for presente' \\\n",
    "    'Falso se não for presente e' \\\n",
    "    'indefinite se não estiver a informação no texto'\n",
    ")\n",
    "\n",
    "schema_Sentimento = ResponseSchema(\n",
    "    name='Sentimento',\n",
    "    type='list ',\n",
    "    description='coloque pelo menos 2 sentimentos da avaliação do produto'\n",
    ")\n",
    "\n",
    "schema_Positivo = ResponseSchema(\n",
    "    name='Positivo',\n",
    "    type='str',\n",
    "    description='Forneça em uma única palavra o sentimento na avaliação do produto, seja \"Positiva\" ou \"Negativa\"'\n",
    ")\n",
    "\n",
    "schema_mercado = ResponseSchema(\n",
    "    name='comparação_mercado',\n",
    "    type='str',\n",
    "    description='o compardor achouu o produto mais caro ou mais barato que a concorrência'\n",
    ")\n",
    "\n",
    "response_schema = [schema_produto,\n",
    "                   schema_Presente,\n",
    "                   schema_Sentimento,\n",
    "                   schema_Positivo,\n",
    "                   schema_mercado\n",
    "    ]\n",
    "\n",
    "output_parser = StructuredOutputParser.from_response_schemas(response_schema)\n",
    "\n",
    "schema_formatado = output_parser.get_format_instructions()\n",
    "\n",
    "print(schema_formatado)"
   ]
  },
  {
   "cell_type": "code",
   "execution_count": 9,
   "id": "cf25b27e",
   "metadata": {},
   "outputs": [],
   "source": [
    "#criando prompt \n",
    "\n",
    "review_template = ChatPromptTemplate.from_template(\n",
    "''' \n",
    "Extraia do texto a seguir as seguintes informações no formato JSON:\n",
    "\n",
    "- **Produto**: Produto.\n",
    "- **Presente**: Verdadeiro ou Falso.\n",
    "- **Sentimento**: sentimento na avaliação.\n",
    "- **Positivo**: Avaliação positiva ou negativa.\n",
    "- **comparação_mercado**: achou caro barato ou mesma média de valor.\n",
    "\n",
    "Texyo: {review}\n",
    "\n",
    "{schema}\n",
    "''' , partial_variables={'schema': schema_formatado}\n",
    ")"
   ]
  },
  {
   "cell_type": "code",
   "execution_count": 10,
   "id": "4d802d05",
   "metadata": {},
   "outputs": [
    {
     "name": "stdout",
     "output_type": "stream",
     "text": [
      "```json\n",
      "{\n",
      "  \"Produto\": \"soprador de folhas\",\n",
      "  \"Presente\": true,\n",
      "  \"Sentimento\": [\"incrível\", \"satisfeito\"],\n",
      "  \"Positivo\": \"Positiva\",\n",
      "  \"comparação_mercado\": \"mais caro\"\n",
      "}\n",
      "```\n"
     ]
    }
   ],
   "source": [
    "#Chamando IA com retorno\n",
    "\n",
    "llm = ChatGoogleGenerativeAI(model='gemini-1.5-flash')\n",
    "\n",
    "retorno = llm.invoke(review_template.format_messages(review=review_text))\n",
    "\n",
    "print(retorno.content)"
   ]
  }
 ],
 "metadata": {
  "kernelspec": {
   "display_name": "venv",
   "language": "python",
   "name": "python3"
  },
  "language_info": {
   "codemirror_mode": {
    "name": "ipython",
    "version": 3
   },
   "file_extension": ".py",
   "mimetype": "text/x-python",
   "name": "python",
   "nbconvert_exporter": "python",
   "pygments_lexer": "ipython3",
   "version": "3.13.6"
  }
 },
 "nbformat": 4,
 "nbformat_minor": 5
}
