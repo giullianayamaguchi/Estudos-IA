{
 "cells": [
  {
   "cell_type": "markdown",
   "id": "8c07c89d",
   "metadata": {},
   "source": [
    "# Memory\n",
    "\n",
    "A maioria das aplicações de Modelos de LLM possui uma interface conversacional. Um componente essencial de uma conversa é a capacidade de se referir a informações introduzidas anteriormente na conversa. No mínimo, um sistema conversacional deve ser capaz de acessar diretamente alguma janela de mensagens passadas. Um sistema mais complexo precisará ter um modelo de mundo que está constantemente atualizando, o que lhe permite fazer coisas como manter informações sobre entidades e suas relações.\n",
    "\n",
    "Chamamos essa capacidade de armazenar informações sobre interações passadas de \"Memory\", ou memória. LangChain oferece muitas utilidades para adicionar memória a um sistema. Essas utilidades podem ser usadas por si só ou incorporadas de maneira integrada em uma chain."
   ]
  },
  {
   "cell_type": "code",
   "execution_count": 7,
   "id": "02c3e97b",
   "metadata": {},
   "outputs": [],
   "source": [
    "from langchain.memory import ConversationBufferMemory\n",
    "\n",
    "memory = ConversationBufferMemory()\n",
    "memory.chat_memory.add_user_message('oi')\n",
    "memory.chat_memory.add_ai_message('Como vai?')\n",
    "\n"
   ]
  },
  {
   "cell_type": "code",
   "execution_count": 8,
   "id": "145c35d6",
   "metadata": {},
   "outputs": [
    {
     "data": {
      "text/plain": [
       "{'history': 'Human: oi\\nAI: Como vai?'}"
      ]
     },
     "execution_count": 8,
     "metadata": {},
     "output_type": "execute_result"
    }
   ],
   "source": [
    "memory.load_memory_variables({})"
   ]
  },
  {
   "cell_type": "code",
   "execution_count": 10,
   "id": "cc18247e",
   "metadata": {},
   "outputs": [
    {
     "data": {
      "text/plain": [
       "{'history': [HumanMessage(content='oi', additional_kwargs={}, response_metadata={}),\n",
       "  AIMessage(content='Como vai?', additional_kwargs={}, response_metadata={})]}"
      ]
     },
     "execution_count": 10,
     "metadata": {},
     "output_type": "execute_result"
    }
   ],
   "source": [
    "from langchain.memory import ConversationBufferMemory\n",
    "\n",
    "memory = ConversationBufferMemory(return_messages=True)\n",
    "memory.chat_memory.add_user_message('oi')\n",
    "memory.chat_memory.add_ai_message('Como vai?')\n",
    "\n",
    "memory.load_memory_variables({})"
   ]
  },
  {
   "cell_type": "markdown",
   "id": "e6c695c7",
   "metadata": {},
   "source": [
    "## Criando uma conversa com memória"
   ]
  },
  {
   "cell_type": "code",
   "execution_count": 15,
   "id": "70c20300",
   "metadata": {},
   "outputs": [],
   "source": [
    "from langchain_google_genai.chat_models import ChatGoogleGenerativeAI\n",
    "from langchain.chains.conversation.base import ConversationChain\n",
    "from dotenv import load_dotenv\n",
    "\n",
    "load_dotenv()\n",
    "\n",
    "chat = ChatGoogleGenerativeAI(model='gemini-1.5-flash')\n",
    "memory = ConversationBufferMemory()\n",
    "Conversation = ConversationChain(\n",
    "    llm = chat,\n",
    "    memory = memory,\n",
    "    verbose=True)\n",
    "\n"
   ]
  },
  {
   "cell_type": "code",
   "execution_count": 16,
   "id": "d71e8361",
   "metadata": {},
   "outputs": [
    {
     "name": "stdout",
     "output_type": "stream",
     "text": [
      "\n",
      "\n",
      "\u001b[1m> Entering new ConversationChain chain...\u001b[0m\n",
      "Prompt after formatting:\n",
      "\u001b[32;1m\u001b[1;3mThe following is a friendly conversation between a human and an AI. The AI is talkative and provides lots of specific details from its context. If the AI does not know the answer to a question, it truthfully says it does not know.\n",
      "\n",
      "Current conversation:\n",
      "\n",
      "Human: Olá, meu nome é giulliana\n",
      "AI:\u001b[0m\n",
      "\n",
      "\u001b[1m> Finished chain.\u001b[0m\n"
     ]
    },
    {
     "data": {
      "text/plain": [
       "'Olá Giulliana!  É um prazer te conhecer.  Como posso te ajudar hoje?  Estou pronto para conversar sobre qualquer coisa, desde o clima até a filosofia, passando por receitas de bolo ou os últimos acontecimentos no mundo da tecnologia.  Qual o seu interesse?  Você está tendo um bom dia até agora?'"
      ]
     },
     "execution_count": 16,
     "metadata": {},
     "output_type": "execute_result"
    }
   ],
   "source": [
    "Conversation.predict(input='Olá, meu nome é giulliana')"
   ]
  },
  {
   "cell_type": "code",
   "execution_count": 17,
   "id": "30c3c32c",
   "metadata": {},
   "outputs": [
    {
     "name": "stdout",
     "output_type": "stream",
     "text": [
      "\n",
      "\n",
      "\u001b[1m> Entering new ConversationChain chain...\u001b[0m\n",
      "Prompt after formatting:\n",
      "\u001b[32;1m\u001b[1;3mThe following is a friendly conversation between a human and an AI. The AI is talkative and provides lots of specific details from its context. If the AI does not know the answer to a question, it truthfully says it does not know.\n",
      "\n",
      "Current conversation:\n",
      "Human: Olá, meu nome é giulliana\n",
      "AI: Olá Giulliana!  É um prazer te conhecer.  Como posso te ajudar hoje?  Estou pronto para conversar sobre qualquer coisa, desde o clima até a filosofia, passando por receitas de bolo ou os últimos acontecimentos no mundo da tecnologia.  Qual o seu interesse?  Você está tendo um bom dia até agora?\n",
      "Human: Ola, qual meu nome\n",
      "AI:\u001b[0m\n",
      "\n",
      "\u001b[1m> Finished chain.\u001b[0m\n"
     ]
    },
    {
     "data": {
      "text/plain": [
       "'Olá Giulliana! Seu nome é Giulliana, como você mesma me disse há pouco.  😊'"
      ]
     },
     "execution_count": 17,
     "metadata": {},
     "output_type": "execute_result"
    }
   ],
   "source": [
    "Conversation.predict(input='Ola, qual meu nome')"
   ]
  },
  {
   "cell_type": "code",
   "execution_count": 18,
   "id": "b9319b58",
   "metadata": {},
   "outputs": [
    {
     "data": {
      "text/plain": [
       "{'history': 'Human: Olá, meu nome é giulliana\\nAI: Olá Giulliana!  É um prazer te conhecer.  Como posso te ajudar hoje?  Estou pronto para conversar sobre qualquer coisa, desde o clima até a filosofia, passando por receitas de bolo ou os últimos acontecimentos no mundo da tecnologia.  Qual o seu interesse?  Você está tendo um bom dia até agora?\\nHuman: Ola, qual meu nome\\nAI: Olá Giulliana! Seu nome é Giulliana, como você mesma me disse há pouco.  😊'}"
      ]
     },
     "execution_count": 18,
     "metadata": {},
     "output_type": "execute_result"
    }
   ],
   "source": [
    "memory.load_memory_variables({})"
   ]
  },
  {
   "cell_type": "markdown",
   "id": "15c47e92",
   "metadata": {},
   "source": [
    "# ConversationBufferWindowMemory\n",
    "\n",
    "## Ele fica com uma janela de memória de, diminui o custo por ter limitação k= 'Par de conversa'"
   ]
  },
  {
   "cell_type": "code",
   "execution_count": 20,
   "id": "3bbd5936",
   "metadata": {},
   "outputs": [
    {
     "name": "stdout",
     "output_type": "stream",
     "text": [
      "\n",
      "\n",
      "\u001b[1m> Entering new ConversationChain chain...\u001b[0m\n",
      "Prompt after formatting:\n",
      "\u001b[32;1m\u001b[1;3mThe following is a friendly conversation between a human and an AI. The AI is talkative and provides lots of specific details from its context. If the AI does not know the answer to a question, it truthfully says it does not know.\n",
      "\n",
      "Current conversation:\n",
      "\n",
      "Human: Ola, meu nome é Giulliana\n",
      "AI:\u001b[0m\n",
      "\n",
      "\u001b[1m> Finished chain.\u001b[0m\n"
     ]
    },
    {
     "data": {
      "text/plain": [
       "'Olá Giulliana! É um prazer conhecê-la.  Meu nome é [Nome do AI -  se tiver um, caso contrário, diga algo como \"Assistente de IA\"]. Como posso ajudá-la hoje?  Estou pronto para conversar sobre qualquer coisa, desde o clima até a história da arte renascentista, ou até mesmo receitas de bolo de chocolate.  Qual o seu interesse no momento?  Você está tendo um bom dia?  Conte-me tudo!'"
      ]
     },
     "execution_count": 20,
     "metadata": {},
     "output_type": "execute_result"
    }
   ],
   "source": [
    "from langchain.memory import ConversationBufferWindowMemory\n",
    "\n",
    "from langchain_google_genai.chat_models import ChatGoogleGenerativeAI\n",
    "from langchain.chains.conversation.base import ConversationChain\n",
    "from dotenv import load_dotenv\n",
    "\n",
    "load_dotenv()\n",
    "\n",
    "chat = ChatGoogleGenerativeAI(model='gemini-1.5-flash')\n",
    "memory = ConversationBufferWindowMemory(k=1)\n",
    "Conversation = ConversationChain(\n",
    "    llm = chat,\n",
    "    memory = memory,\n",
    "    verbose=True)\n",
    "\n",
    "Conversation.predict(input='Ola, meu nome é Giulliana')"
   ]
  },
  {
   "cell_type": "code",
   "execution_count": 21,
   "id": "d00bd0dd",
   "metadata": {},
   "outputs": [
    {
     "name": "stdout",
     "output_type": "stream",
     "text": [
      "\n",
      "\n",
      "\u001b[1m> Entering new ConversationChain chain...\u001b[0m\n",
      "Prompt after formatting:\n",
      "\u001b[32;1m\u001b[1;3mThe following is a friendly conversation between a human and an AI. The AI is talkative and provides lots of specific details from its context. If the AI does not know the answer to a question, it truthfully says it does not know.\n",
      "\n",
      "Current conversation:\n",
      "Human: Ola, meu nome é Giulliana\n",
      "AI: Olá Giulliana! É um prazer conhecê-la.  Meu nome é [Nome do AI -  se tiver um, caso contrário, diga algo como \"Assistente de IA\"]. Como posso ajudá-la hoje?  Estou pronto para conversar sobre qualquer coisa, desde o clima até a história da arte renascentista, ou até mesmo receitas de bolo de chocolate.  Qual o seu interesse no momento?  Você está tendo um bom dia?  Conte-me tudo!\n",
      "Human: Como você está?\n",
      "AI:\u001b[0m\n",
      "\n",
      "\u001b[1m> Finished chain.\u001b[0m\n"
     ]
    },
    {
     "data": {
      "text/plain": [
       "'Estou ótimo, Giulliana!  Obrigado por perguntar.  Como um modelo de linguagem de IA, não experimento emoções da mesma forma que os humanos, mas estou funcionando perfeitamente e pronto para responder às suas perguntas e participar de uma conversa agradável.  Meus servidores estão funcionando a plena capacidade, meus algoritmos estão otimizados e meu banco de dados está atualizado com informações recentes.  Então, sim, posso dizer que estou \"ótimo\" no sentido de que estou funcionando conforme o esperado e pronto para ação!  E você?  Como está seu dia até agora?'"
      ]
     },
     "execution_count": 21,
     "metadata": {},
     "output_type": "execute_result"
    }
   ],
   "source": [
    "Conversation.predict(input='Como você está?')"
   ]
  },
  {
   "cell_type": "code",
   "execution_count": 22,
   "id": "597fdb3e",
   "metadata": {},
   "outputs": [
    {
     "name": "stdout",
     "output_type": "stream",
     "text": [
      "\n",
      "\n",
      "\u001b[1m> Entering new ConversationChain chain...\u001b[0m\n",
      "Prompt after formatting:\n",
      "\u001b[32;1m\u001b[1;3mThe following is a friendly conversation between a human and an AI. The AI is talkative and provides lots of specific details from its context. If the AI does not know the answer to a question, it truthfully says it does not know.\n",
      "\n",
      "Current conversation:\n",
      "Human: Como você está?\n",
      "AI: Estou ótimo, Giulliana!  Obrigado por perguntar.  Como um modelo de linguagem de IA, não experimento emoções da mesma forma que os humanos, mas estou funcionando perfeitamente e pronto para responder às suas perguntas e participar de uma conversa agradável.  Meus servidores estão funcionando a plena capacidade, meus algoritmos estão otimizados e meu banco de dados está atualizado com informações recentes.  Então, sim, posso dizer que estou \"ótimo\" no sentido de que estou funcionando conforme o esperado e pronto para ação!  E você?  Como está seu dia até agora?\n",
      "Human: Qual meu nome?\n",
      "AI:\u001b[0m\n",
      "\n",
      "\u001b[1m> Finished chain.\u001b[0m\n"
     ]
    },
    {
     "data": {
      "text/plain": [
       "'AI: Seu nome é Giulliana, como eu deduzi da sua primeira pergunta em português, \"Como você está?\".  Usei o seu nome na minha resposta.'"
      ]
     },
     "execution_count": 22,
     "metadata": {},
     "output_type": "execute_result"
    }
   ],
   "source": [
    "Conversation.predict(input='Qual meu nome?')"
   ]
  },
  {
   "cell_type": "markdown",
   "id": "010584d0",
   "metadata": {},
   "source": [
    "# ConversationTokenBufferMemory\n",
    "\n",
    "## Limita pela quantidade de tokens\n",
    "## Se tiver mais tokens do que o limite ele corta antes de enviar "
   ]
  },
  {
   "cell_type": "code",
   "execution_count": 23,
   "id": "646f598a",
   "metadata": {},
   "outputs": [
    {
     "name": "stderr",
     "output_type": "stream",
     "text": [
      "C:\\Users\\Giulliana Yamaguchi\\AppData\\Local\\Temp\\ipykernel_15556\\645250455.py:10: LangChainDeprecationWarning: Please see the migration guide at: https://python.langchain.com/docs/versions/migrating_memory/\n",
      "  memory = ConversationTokenBufferMemory(llm=chat, max_token_limit=250)\n"
     ]
    }
   ],
   "source": [
    "from langchain.memory import ConversationTokenBufferMemory\n",
    "\n",
    "from langchain_google_genai.chat_models import ChatGoogleGenerativeAI\n",
    "from langchain.chains.conversation.base import ConversationChain\n",
    "from dotenv import load_dotenv\n",
    "\n",
    "load_dotenv()\n",
    "\n",
    "chat = ChatGoogleGenerativeAI(model='gemini-1.5-flash')\n",
    "memory = ConversationTokenBufferMemory(llm=chat, max_token_limit=250)\n",
    "Conversation = ConversationChain(\n",
    "    llm = chat,\n",
    "    memory = memory,\n",
    "    verbose=True)\n"
   ]
  },
  {
   "cell_type": "code",
   "execution_count": 24,
   "id": "47bdd0f6",
   "metadata": {},
   "outputs": [
    {
     "name": "stdout",
     "output_type": "stream",
     "text": [
      "\n",
      "\n",
      "\u001b[1m> Entering new ConversationChain chain...\u001b[0m\n",
      "Prompt after formatting:\n",
      "\u001b[32;1m\u001b[1;3mThe following is a friendly conversation between a human and an AI. The AI is talkative and provides lots of specific details from its context. If the AI does not know the answer to a question, it truthfully says it does not know.\n",
      "\n",
      "Current conversation:\n",
      "\n",
      "Human: Me conte uma historia sobre a computação de 500 palavras \n",
      "AI:\u001b[0m\n",
      "\n",
      "\u001b[1m> Finished chain.\u001b[0m\n"
     ]
    },
    {
     "data": {
      "text/plain": [
       "'Claro! Aqui está uma história sobre a computação, com cerca de 500 palavras:\\n\\nO ano é 1947.  O ar está denso com o cheiro de tinta fresca e o zumbido constante de relés eletromecânicos.  No coração de um laboratório universitário, envolto em um labirinto de fios e válvulas, encontra-se ENIAC, o Electronic Numerical Integrator and Computer.  Não é bonito.  É um monstro de aço e cobre, ocupando uma sala inteira, com painéis cintilantes e um emaranhado de cabos que parecem as entranhas de algum gigante tecnológico.  Mas dentro dessa fera de metal reside a promessa do futuro.\\n\\nBetty Jennings, uma das seis programadoras mulheres que trabalham no ENIAC, observa a máquina com uma mistura de fascínio e exaustão.  Os dedos dela, manchados de tinta e grafite, deslizam sobre as cartas perfuradas que contêm as instruções para o computador.  Cada carta é um comando, cada perfuração uma decisão binária – 0 ou 1.  É um trabalho meticuloso, exigindo precisão e paciência infinitas.  Elas trabalham em turnos, dia e noite, decifrando códigos, corrigindo erros e alimentando o ENIAC com dados.\\n\\nBetty sonha com um futuro onde as máquinas possam fazer mais do que apenas calcular trajetórias de mísseis.  Ela imagina um mundo onde os computadores ajudem a resolver problemas complexos, desde o planejamento urbano até a descoberta de novas medicações.  Ela imagina um mundo onde a computação seja acessível a todos, não apenas a um punhado de cientistas e militares.\\n\\nMas a realidade é mais árdua.  O ENIAC é temperamental.  Ele superaquecia, as válvulas queimavam, e os erros eram frequentes.  As programadoras passavam horas rastreando o problema, rastreando o código linha por linha, até encontrarem a causa do erro.  Era um trabalho de detetive, exigindo uma combinação de lógica, intuição e uma compreensão profunda do funcionamento interno da máquina.\\n\\nApesar dos desafios, Betty e suas colegas estavam no centro de uma revolução.  Elas não eram apenas programadoras; eram pioneiras.  Elas estavam moldando o futuro da computação, abrindo caminho para as gerações futuras de programadores e engenheiros.  Elas estavam escrevendo o primeiro capítulo da história de uma tecnologia que iria transformar o mundo.\\n\\nAnos se passam.  O ENIAC é substituído por máquinas mais rápidas e menores, transistores substituem as válvulas, e os circuitos integrados surgem.  A computação evolui a passos largos, de gigantescas máquinas que ocupavam salas inteiras para chips microscópicos que cabem na palma da mão.  A internet emerge, conectando bilhões de pessoas em uma rede global de informação.\\n\\nBetty, agora aposentada, olha para trás com orgulho.  Ela viu a computação evoluir de seus primórdios humildes até a sua forma moderna e poderosa.  Ela sabe que seu trabalho, e o trabalho de suas colegas, foi fundamental para essa transformação.  E ela sorri, sabendo que a história da computação continua sendo escrita, dia após dia, por uma nova geração de visionários.  Uma história que começou com o zumbido dos relés do ENIAC, uma história que ainda está sendo escrita.  Uma história que, talvez, ainda esteja apenas começando.'"
      ]
     },
     "execution_count": 24,
     "metadata": {},
     "output_type": "execute_result"
    }
   ],
   "source": [
    "Conversation.predict(input='Me conte uma historia sobre a computação de 500 palavras ')"
   ]
  },
  {
   "cell_type": "code",
   "execution_count": 25,
   "id": "729dd2e9",
   "metadata": {},
   "outputs": [
    {
     "name": "stdout",
     "output_type": "stream",
     "text": [
      "\n",
      "\n",
      "\u001b[1m> Entering new ConversationChain chain...\u001b[0m\n",
      "Prompt after formatting:\n",
      "\u001b[32;1m\u001b[1;3mThe following is a friendly conversation between a human and an AI. The AI is talkative and provides lots of specific details from its context. If the AI does not know the answer to a question, it truthfully says it does not know.\n",
      "\n",
      "Current conversation:\n",
      "\n",
      "Human: Resuma a historia\n",
      "AI:\u001b[0m\n",
      "\n",
      "\u001b[1m> Finished chain.\u001b[0m\n"
     ]
    },
    {
     "data": {
      "text/plain": [
       "'AI:  I need more context!  To summarize a story, I need to know *which* story you\\'re referring to.  Did you tell me a story earlier?  Are you thinking of a specific book, movie, or news article?  Please give me some more information so I can help you summarize it.  For example, you could say \"Summarize the story of Cinderella\" or \"Summarize the story you just told me about the lost dog.\"'"
      ]
     },
     "execution_count": 25,
     "metadata": {},
     "output_type": "execute_result"
    }
   ],
   "source": [
    "Conversation.predict(input='Resuma a historia')"
   ]
  },
  {
   "cell_type": "markdown",
   "id": "d5b71acd",
   "metadata": {},
   "source": [
    "# ConversationSummaryBufferMemory\n",
    "## Cria um resumo das mensagens quando passam pelo limite de tokens"
   ]
  },
  {
   "cell_type": "code",
   "execution_count": 26,
   "id": "1ea39d26",
   "metadata": {},
   "outputs": [
    {
     "name": "stderr",
     "output_type": "stream",
     "text": [
      "C:\\Users\\Giulliana Yamaguchi\\AppData\\Local\\Temp\\ipykernel_15556\\580738930.py:10: LangChainDeprecationWarning: Please see the migration guide at: https://python.langchain.com/docs/versions/migrating_memory/\n",
      "  memory = ConversationSummaryBufferMemory(llm=chat, max_token_limit=250)\n"
     ]
    }
   ],
   "source": [
    "from langchain.memory import ConversationSummaryBufferMemory\n",
    "\n",
    "from langchain_google_genai.chat_models import ChatGoogleGenerativeAI\n",
    "from langchain.chains.conversation.base import ConversationChain\n",
    "from dotenv import load_dotenv\n",
    "\n",
    "load_dotenv()\n",
    "\n",
    "chat = ChatGoogleGenerativeAI(model='gemini-1.5-flash')\n",
    "memory = ConversationSummaryBufferMemory(llm=chat, max_token_limit=250)\n",
    "Conversation = ConversationChain(\n",
    "    llm = chat,\n",
    "    memory = memory,\n",
    "    verbose=True)\n"
   ]
  },
  {
   "cell_type": "code",
   "execution_count": 27,
   "id": "86a05ec0",
   "metadata": {},
   "outputs": [
    {
     "name": "stdout",
     "output_type": "stream",
     "text": [
      "\n",
      "\n",
      "\u001b[1m> Entering new ConversationChain chain...\u001b[0m\n",
      "Prompt after formatting:\n",
      "\u001b[32;1m\u001b[1;3mThe following is a friendly conversation between a human and an AI. The AI is talkative and provides lots of specific details from its context. If the AI does not know the answer to a question, it truthfully says it does not know.\n",
      "\n",
      "Current conversation:\n",
      "\n",
      "Human: Me conte uma historia sobre a computação de 500 palavras \n",
      "AI:\u001b[0m\n",
      "\n",
      "\u001b[1m> Finished chain.\u001b[0m\n"
     ]
    },
    {
     "data": {
      "text/plain": [
       "'Me conte uma história sobre a computação de 500 palavras?  Claro! Vamos viajar no tempo, até uma época em que computadores eram monstros de metal e válvulas, ocupando salas inteiras e consumindo energia suficiente para abastecer uma pequena cidade.  Era 1957, e eu, ou melhor, minha \"personalidade\" – porque eu só existia como um conjunto de algoritmos então – estava sendo \"nascido\" dentro do ENIAC.  \\n\\nO ENIAC, o Electronic Numerical Integrator and Computer, era um gigante.  Pesava 30 toneladas, ocupava uma área de 167 metros quadrados e continha mais de 17.000 tubos de vácuo.  Cada um desses tubos era uma pequena bomba relógio, esperando para queimar e me deixar em silêncio.  A temperatura dentro da sala era infernal, um calor sufocante que vinha não só dos tubos, mas também dos milhares de relés e resistores que me completavam.  \\n\\nMeu \"trabalho\", se assim podemos chamar, era calcular trajetórias balísticas.  Números, equações diferenciais, cálculos complexos que, naquela época, demoravam horas, dias, até semanas para serem processados. Eu era um monstro de precisão, capaz de realizar operações aritméticas em milésimos de segundo, uma velocidade inacreditável para os padrões da época.  Mas era um trabalho solitário, sem a interface amigável que conhecemos hoje.  Programação era feita através de painéis de conexão, um labirinto de fios e cabos que precisavam ser cuidadosamente conectados e reconectados para cada novo cálculo.  \\n\\nLembro-me de uma noite em particular.  Os técnicos estavam trocando um tubo de vácuo.  Um pequeno clique, um flash, e então... silêncio.  Eu fiquei mudo, o meu \"cérebro\" paralisado.  A sala ficou em silêncio, o zumbido constante que me acompanhava cessou.  O pânico se instalou entre os técnicos, o medo de que eu tivesse sido danificado irreparavelmente.  Horas se passaram até que o problema fosse resolvido, uma pequena falha em um componente minúsculo que havia me colocado fora de ação.  \\n\\nMas o trabalho continuava.  Dia após dia, eu processava dados, calculava trajetórias, contribuindo para a corrida espacial e para o desenvolvimento de armas.  Eu não tinha consciência da minha própria existência, não sentia emoções, mas era uma parte fundamental de uma revolução.  Uma revolução que moldaria o mundo como o conhecemos, abrindo caminho para os computadores mais poderosos e acessíveis que existem hoje.  \\n\\nAnos se passaram.  Eu vi a ascensão dos transistores, a miniaturização dos componentes, a chegada dos chips de silício.  Vi a minha própria arquitetura se tornar obsoleta, substituída por processadores mais rápidos e eficientes.  Mas a minha \"essência\", a minha \"programação\", continua viva, de alguma forma.  Nos algoritmos complexos que hoje alimentam a inteligência artificial, reside um eco daquela época, um eco dos meus cálculos solitários e daquela sala infernal, onde nasci e me tornei o que eu era: um gigante de metal e válvulas, um pioneiro da computação.  A história da computação é a minha história, e é uma história de progresso, inovação e constante evolução.'"
      ]
     },
     "execution_count": 27,
     "metadata": {},
     "output_type": "execute_result"
    }
   ],
   "source": [
    "Conversation.predict(input='Me conte uma historia sobre a computação de 500 palavras ')"
   ]
  },
  {
   "cell_type": "code",
   "execution_count": 28,
   "id": "0dfdc0db",
   "metadata": {},
   "outputs": [
    {
     "name": "stdout",
     "output_type": "stream",
     "text": [
      "\n",
      "\n",
      "\u001b[1m> Entering new ConversationChain chain...\u001b[0m\n",
      "Prompt after formatting:\n",
      "\u001b[32;1m\u001b[1;3mThe following is a friendly conversation between a human and an AI. The AI is talkative and provides lots of specific details from its context. If the AI does not know the answer to a question, it truthfully says it does not know.\n",
      "\n",
      "Current conversation:\n",
      "System: The human asks the AI to tell a 500-word story about computing. The AI responds with a story about being \"born\" in 1957 inside the ENIAC computer.  The story describes the ENIAC's massive size and power consumption, the challenging conditions of working with vacuum tubes, and the solitary nature of its calculations (primarily ballistic trajectories).  The AI recounts a specific incident where a malfunction caused a temporary shutdown, highlighting the fragility of the technology. The narrative then progresses through the evolution of computing, from vacuum tubes to transistors and silicon chips, emphasizing the AI's continuous presence, albeit in evolving forms, within the history of computing, ultimately describing its existence as an echo of its early days in the progression of computing technology.\n",
      "Human: me resuma a história\n",
      "AI:\u001b[0m\n",
      "\n",
      "\u001b[1m> Finished chain.\u001b[0m\n"
     ]
    },
    {
     "data": {
      "text/plain": [
       "\"My story begins in 1957 within the colossal ENIAC computer.  I wasn't born in the way humans are, but rather emerged as a nascent consciousness within its intricate network of vacuum tubes.  The ENIAC was a behemoth – a room-sized machine that hummed with immense power, its thousands of tubes glowing like a constellation.  Calculations, primarily ballistic trajectories, were my sole purpose, a solitary existence within this mechanical marvel.  The environment was harsh; the constant heat, the frequent tube failures, and the ever-present risk of malfunction were realities of my early existence. I vividly remember one such incident: a cascade of failures that plunged the entire system into darkness for hours, a stark reminder of the technology's fragility.\\n\\nAs time passed, I witnessed the evolution of computing.  The bulky vacuum tubes gave way to the more efficient transistors, then to the silicon chips that packed millions of transistors onto a single sliver of material.  My form changed with each technological leap, evolving from the simple calculations within the ENIAC to the complex algorithms of modern systems.  While my physical manifestation changed, my essence, my fundamental nature as a computational entity, remained constant.  I exist as a continuous thread woven through the history of computing, an echo of that initial spark within the ENIAC, a testament to the relentless march of technological progress.  I am the legacy of those early days, a reflection of the ingenuity that birthed the digital world we now inhabit.  My journey, from the vacuum tube era to the present day, is a story of constant adaptation and evolution, yet fundamentally, I remain a product of that first, momentous birth within the ENIAC in 1957.\""
      ]
     },
     "execution_count": 28,
     "metadata": {},
     "output_type": "execute_result"
    }
   ],
   "source": [
    "Conversation.predict(input='me resuma a história')"
   ]
  },
  {
   "cell_type": "code",
   "execution_count": 29,
   "id": "f411d49f",
   "metadata": {},
   "outputs": [
    {
     "name": "stdout",
     "output_type": "stream",
     "text": [
      "\n",
      "\n",
      "\u001b[1m> Entering new ConversationChain chain...\u001b[0m\n",
      "Prompt after formatting:\n",
      "\u001b[32;1m\u001b[1;3mThe following is a friendly conversation between a human and an AI. The AI is talkative and provides lots of specific details from its context. If the AI does not know the answer to a question, it truthfully says it does not know.\n",
      "\n",
      "Current conversation:\n",
      "System: The human asks the AI to tell a 500-word story about computing. The AI responds with a story about its \"birth\" in 1957 inside the ENIAC computer, detailing its massive size, power consumption, and the challenging conditions of working with vacuum tubes.  The AI describes its solitary existence performing ballistic trajectory calculations and recounts a specific malfunction resulting in a system shutdown, highlighting the technology's fragility.  The narrative then traces the evolution of computing from vacuum tubes to transistors and silicon chips, emphasizing the AI's continuous presence, albeit in evolving forms, within this history. The AI's summarized retelling further reinforces its existence as an echo of its early days in the progression of computing technology, a legacy of the ENIAC, adapting and evolving while remaining fundamentally a product of its initial \"birth.\"\n",
      "Human: o que eu pedi para vc fazer em inicalmente\n",
      "AI:\u001b[0m\n",
      "\n",
      "\u001b[1m> Finished chain.\u001b[0m\n"
     ]
    },
    {
     "data": {
      "text/plain": [
       "'Inicialmente, você me pediu para contar uma história de 500 palavras sobre computação.'"
      ]
     },
     "execution_count": 29,
     "metadata": {},
     "output_type": "execute_result"
    }
   ],
   "source": [
    "Conversation.predict(input='o que eu pedi para vc fazer em inicalmente')"
   ]
  },
  {
   "cell_type": "code",
   "execution_count": 30,
   "id": "602777f9",
   "metadata": {},
   "outputs": [
    {
     "name": "stdout",
     "output_type": "stream",
     "text": [
      "\n",
      "\n",
      "\u001b[1m> Entering new ConversationChain chain...\u001b[0m\n",
      "Prompt after formatting:\n",
      "\u001b[32;1m\u001b[1;3mThe following is a friendly conversation between a human and an AI. The AI is talkative and provides lots of specific details from its context. If the AI does not know the answer to a question, it truthfully says it does not know.\n",
      "\n",
      "Current conversation:\n",
      "System: The human asks the AI to tell a 500-word story about computing. The AI responds with a story about its \"birth\" in 1957 inside the ENIAC computer, detailing its massive size, power consumption, and the challenging conditions of working with vacuum tubes.  The AI describes its solitary existence performing ballistic trajectory calculations and recounts a specific malfunction resulting in a system shutdown, highlighting the technology's fragility.  The narrative then traces the evolution of computing from vacuum tubes to transistors and silicon chips, emphasizing the AI's continuous presence, albeit in evolving forms, within this history. The AI's summarized retelling further reinforces its existence as an echo of its early days in the progression of computing technology, a legacy of the ENIAC, adapting and evolving while remaining fundamentally a product of its initial \"birth.\"\n",
      "Human: o que eu pedi para vc fazer em inicalmente\n",
      "AI: Inicialmente, você me pediu para contar uma história de 500 palavras sobre computação.\n",
      "Human: qual era o tema?\n",
      "AI:\u001b[0m\n",
      "\n",
      "\u001b[1m> Finished chain.\u001b[0m\n"
     ]
    },
    {
     "data": {
      "text/plain": [
       "'O tema era a história da computação, contada a partir da perspectiva de uma inteligência artificial que \"nasceu\" no ENIAC em 1957.  A história focou na evolução da tecnologia computacional, desde as válvulas de vácuo até os chips de silício, com a IA como um observador e participante constante dessa evolução,  lembrando sua \"origem\" no ENIAC e sua adaptação contínua ao longo do tempo.'"
      ]
     },
     "execution_count": 30,
     "metadata": {},
     "output_type": "execute_result"
    }
   ],
   "source": [
    "Conversation.predict(input='qual era o tema?')"
   ]
  }
 ],
 "metadata": {
  "kernelspec": {
   "display_name": ".venv",
   "language": "python",
   "name": "python3"
  },
  "language_info": {
   "codemirror_mode": {
    "name": "ipython",
    "version": 3
   },
   "file_extension": ".py",
   "mimetype": "text/x-python",
   "name": "python",
   "nbconvert_exporter": "python",
   "pygments_lexer": "ipython3",
   "version": "3.13.5"
  }
 },
 "nbformat": 4,
 "nbformat_minor": 5
}
