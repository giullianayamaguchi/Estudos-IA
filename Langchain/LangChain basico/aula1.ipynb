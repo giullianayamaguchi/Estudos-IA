{
 "cells": [
  {
   "cell_type": "markdown",
   "id": "23f4bb93",
   "metadata": {},
   "source": [
    "LLMs\n",
    "\n",
    "Modelo de Lignaugem Grande (LLM) são um componente central do LangChain. O LangChain não fornece seus próprios LLMs, mas sim fornece uma interface para interagir com diversos LLMs diferentes. Para ser específico, essa interface é uma que recebe como entrada uma string e retorna uma string"
   ]
  },
  {
   "cell_type": "code",
   "execution_count": 1,
   "id": "526562aa",
   "metadata": {},
   "outputs": [
    {
     "name": "stderr",
     "output_type": "stream",
     "text": [
      "c:\\Users\\Giulliana Yamaguchi\\Documents\\data science\\Asimov\\LLMs\\Langchain\\.venv\\Lib\\site-packages\\tqdm\\auto.py:21: TqdmWarning: IProgress not found. Please update jupyter and ipywidgets. See https://ipywidgets.readthedocs.io/en/stable/user_install.html\n",
      "  from .autonotebook import tqdm as notebook_tqdm\n"
     ]
    },
    {
     "data": {
      "text/plain": [
       "True"
      ]
     },
     "execution_count": 1,
     "metadata": {},
     "output_type": "execute_result"
    }
   ],
   "source": [
    "import os\n",
    "from dotenv import load_dotenv\n",
    "from langchain_google_genai import ChatGoogleGenerativeAI\n",
    "\n",
    "#carrega arquivo .env ao ambiente \n",
    "load_dotenv()\n"
   ]
  },
  {
   "cell_type": "markdown",
   "id": "113a95bb",
   "metadata": {},
   "source": [
    "Verficiando chave "
   ]
  },
  {
   "cell_type": "code",
   "execution_count": 2,
   "id": "552d6158",
   "metadata": {},
   "outputs": [],
   "source": [
    "if not os.getenv('GOOGLE_API_KEY'): \n",
    "    raise ValueError(\"Chave GOOGLE_API_KEY NÃO encontrada no arquivo .env\")\n",
    "\n",
    "llm = ChatGoogleGenerativeAI(model='gemini-1.5-flash')"
   ]
  },
  {
   "cell_type": "markdown",
   "id": "0d714c3e",
   "metadata": {},
   "source": [
    "Faz a pergunta e gera a resposta"
   ]
  },
  {
   "cell_type": "code",
   "execution_count": 3,
   "id": "3d9f1960",
   "metadata": {},
   "outputs": [
    {
     "name": "stdout",
     "output_type": "stream",
     "text": [
      "---- Resposta do GEMINI ----\n",
      "Não existe um aplicativo ou serviço chamado \"CubeMessenger\".  É possível que você esteja se referindo a um aplicativo ou plataforma diferente, ou o nome esteja incorreto.  \n",
      "\n",
      "Para adicionar um amigo em um aplicativo de mensagens, você geralmente precisa:\n",
      "\n",
      "* **Saber o nome de usuário ou número de telefone do seu amigo:** A maioria dos aplicativos de mensagens requer essa informação para encontrar e adicionar um contato.\n",
      "* **Procurar pelo seu amigo:**  Geralmente há uma função de busca dentro do aplicativo.  Digite o nome de usuário ou número de telefone do seu amigo e selecione-o nos resultados da busca.\n",
      "* **Enviar um pedido de amizade (se necessário):** Alguns aplicativos exigem que você envie um pedido de amizade, que seu amigo precisa aceitar antes que vocês possam se comunicar.\n",
      "* **Aceitar um pedido de amizade (se necessário):** Se seu amigo te adicionou, você precisará aceitar o pedido para iniciar uma conversa.\n",
      "\n",
      "Se você puder fornecer o nome correto do aplicativo de mensagens que você está usando, posso te dar instruções mais específicas.\n"
     ]
    }
   ],
   "source": [
    "try: \n",
    "    pergunta = 'Como posso adicionar um amigo no CubeMessenger?'\n",
    "\n",
    "    resposta = llm.invoke(pergunta)\n",
    "    print('---- Resposta do GEMINI ----')\n",
    "    print(resposta.content)\n",
    "\n",
    "except Exception as e: \n",
    "    print('Ocorreu um erro: {e}')"
   ]
  },
  {
   "cell_type": "markdown",
   "id": "9b3686b9",
   "metadata": {},
   "source": [
    "Chamando com stream de resposta"
   ]
  },
  {
   "cell_type": "code",
   "execution_count": 12,
   "id": "b587eef1",
   "metadata": {},
   "outputs": [
    {
     "name": "stdout",
     "output_type": "stream",
     "text": [
      "---- Resposta do GEMINI ----\n",
      "A tela piscava, um mar de código verde e preto que me encarava de volta.  Eu, Ana, de 27 anos, estava longe de ser uma \"pessoa de tecnologia\". Meu trabalho era organizar eventos, um universo de convites impressos e planilhas cansativas.  Mas uma faísca, uma vontade de criar algo do zero, me atingiu com a força de um raio.  Queria construir um site para o meu trabalho, algo mais do que um simples cartão de visitas virtual.  Então, comecei a aprender a programar.\n",
      "\n",
      "O primeiro obstáculo foi a sintaxe.  Era como tentar decifrar hieróglifos alienígenas.  Loops, variáveis, funções...  cada palavra era um novo universo a ser explorado.  Meus primeiros programas eram um caos de erros, mensagens de aviso vermelhas piscando na tela como luzes de emergência.  Eu me sentia frustrada, perdida, às vezes até burra.  Passei noites em claro, mergulhada em tutoriais do YouTube, meus olhos ardendo, meu café esfriando ao lado.\n",
      "\n",
      "Mas a cada pequeno sucesso, a cada linha de código que funcionava, uma onda de satisfação me invadia.  Aquele site tosco, com cores descombinadas e uma navegação confusa, era meu Everest conquistado.  Eu aprendi a usar o Google como uma ferramenta de sobrevivência, a navegar fóruns de programação e a pedir ajuda em comunidades online.  A solidão da jornada foi compensada pela generosidade de outros programadores, dispostos a compartilhar seu conhecimento e paciência.\n",
      "\n",
      "Com o tempo, o mar de código deixou de ser assustador.  Comecei a entender a lógica, a beleza da estrutura, a elegância da solução.  Meu site evoluiu, se tornou mais limpo, mais eficiente.  Eu não era uma expert, longe disso, mas tinha encontrado um novo prazer, uma nova maneira de expressar minha criatividade.  A jornada de aprender a programar não foi fácil, mas foi a mais gratificante das minhas aventuras.  E quem sabe, talvez um dia eu crie algo realmente incrível.  Por enquanto, meu site funciona, e isso já é uma vitória.\n"
     ]
    }
   ],
   "source": [
    "pergunta = 'Conte uma história breve sobre a jornada de aprender a programar'\n",
    "\n",
    "#gerando resposta\n",
    "\n",
    "try:\n",
    "    resposta = llm.invoke(pergunta)\n",
    "    print('---- Resposta do GEMINI ----')\n",
    "    \n",
    "    #percorrer resposta por trecho\n",
    "    for chunk in llm.stream(pergunta): \n",
    "        print(chunk.content, end='')\n",
    "\n",
    "except Exception as e: \n",
    "    print('Ocorreu um erro ao chamar a API: {e}')"
   ]
  },
  {
   "cell_type": "markdown",
   "id": "98b0f229",
   "metadata": {},
   "source": [
    "Chamadas simultaneas"
   ]
  },
  {
   "cell_type": "code",
   "execution_count": 9,
   "id": "8c0d95f8",
   "metadata": {},
   "outputs": [
    {
     "data": {
      "text/plain": [
       "[AIMessage(content='O céu é a vasta extensão que vemos acima de nós quando olhamos para cima.  Sua aparência varia dependendo da hora do dia e das condições atmosféricas.  Podemos definir o céu de diferentes maneiras dependendo do contexto:\\n\\n* **Do ponto de vista da meteorologia:** O céu é a atmosfera terrestre, a camada de gases que envolve o nosso planeta.  É nesta camada que ocorrem os fenômenos meteorológicos como nuvens, chuva, neve, vento, etc.\\n\\n* **Do ponto de vista da astronomia:** O céu é o espaço exterior, incluindo estrelas, planetas, luas, galáxias e outros objetos celestes.  Neste sentido, o que vemos como \"céu\" é a nossa perspectiva da imensidão do universo.\\n\\n* **Do ponto de vista poético ou filosófico:** O céu pode representar algo abstrato, como a divindade, a transcendência, a esperança, ou o infinito.\\n\\nEm resumo, a definição de \"céu\" depende do contexto, mas basicamente se refere àquilo que vemos acima de nós, seja a atmosfera terrestre, o espaço sideral ou um conceito abstrato.', additional_kwargs={}, response_metadata={'prompt_feedback': {'block_reason': 0, 'safety_ratings': []}, 'finish_reason': 'STOP', 'model_name': 'gemini-1.5-flash', 'safety_ratings': []}, id='run--8d25d7f5-f3f2-494a-95ab-784bc2857f7c-0', usage_metadata={'input_tokens': 6, 'output_tokens': 238, 'total_tokens': 244, 'input_token_details': {'cache_read': 0}}),\n",
       " AIMessage(content='A Terra é o terceiro planeta a partir do Sol no nosso sistema solar. É um planeta rochoso com uma atmosfera rica em nitrogênio e oxigênio, e é o único planeta conhecido por abrigar vida.  \\n\\nPodemos descrever a Terra de diversas maneiras, dependendo do aspecto que queremos destacar:\\n\\n* **Do ponto de vista geológico:** A Terra é composta por várias camadas, incluindo a crosta (a camada sólida externa), o manto (uma camada viscosa e quente), o núcleo externo (líquido e feito principalmente de ferro e níquel) e o núcleo interno (sólido, também principalmente de ferro e níquel).  A tectônica de placas, a movimentação dessas placas da crosta, molda a superfície terrestre, causando terremotos, vulcões e a formação de montanhas.\\n\\n* **Do ponto de vista biológico:** A Terra é um ecossistema complexo e interconectado, com uma vasta biodiversidade de plantas, animais e microrganismos.  A biosfera, a zona onde a vida existe, inclui a atmosfera inferior, a superfície terrestre e os oceanos.\\n\\n* **Do ponto de vista físico:** A Terra possui um campo magnético que nos protege da radiação solar nociva.  Ela gira sobre seu próprio eixo, causando o dia e a noite, e orbita o Sol, causando as estações do ano.  É também um planeta com uma grande quantidade de água líquida na superfície, formando oceanos, rios e lagos.\\n\\n* **Do ponto de vista astronômico:** A Terra é um planeta relativamente pequeno em comparação com gigantes gasosos como Júpiter e Saturno, mas é grande o suficiente para ter uma gravidade que retém sua atmosfera e água.  Ela faz parte do Sistema Solar, que por sua vez faz parte da Via Láctea.\\n\\nEm resumo, a Terra é um planeta único e complexo, um sistema interconectado de processos físicos, químicos e biológicos que sustentam a vida como a conhecemos.', additional_kwargs={}, response_metadata={'prompt_feedback': {'block_reason': 0, 'safety_ratings': []}, 'finish_reason': 'STOP', 'model_name': 'gemini-1.5-flash', 'safety_ratings': []}, id='run--9ec219f8-7a7f-49ed-bc22-99a3d8306b28-0', usage_metadata={'input_tokens': 5, 'output_tokens': 416, 'total_tokens': 421, 'input_token_details': {'cache_read': 0}}),\n",
       " AIMessage(content='As estrelas são esferas gigantescas de plasma que geram luz e calor através da fusão nuclear em seus núcleos.  Essencialmente, elas são imensas reações nucleares em constante atividade.  A maior parte da massa de uma estrela é hidrogênio, que é fundido em hélio no núcleo.  Essa fusão libera enormes quantidades de energia na forma de luz e calor, que irradiam para o espaço.\\n\\nA vida de uma estrela é determinada pela sua massa.  Estrelas mais massivas queimam seu combustível mais rapidamente e têm vidas mais curtas, enquanto estrelas menos massivas queimam mais lentamente e vivem por muito mais tempo.  Após esgotarem seu combustível, estrelas de diferentes massas seguem caminhos evolutivos diferentes, podendo se tornar anãs brancas, estrelas de nêutrons ou buracos negros.\\n\\nEm resumo, as estrelas são corpos celestes brilhantes e massivos, fundamentais para a formação e evolução do universo,  e a fonte de luz e energia para muitos sistemas planetários, incluindo o nosso.', additional_kwargs={}, response_metadata={'prompt_feedback': {'block_reason': 0, 'safety_ratings': []}, 'finish_reason': 'STOP', 'model_name': 'gemini-1.5-flash', 'safety_ratings': []}, id='run--d4743817-9219-45ae-a35e-987ca6faccb5-0', usage_metadata={'input_tokens': 6, 'output_tokens': 222, 'total_tokens': 228, 'input_token_details': {'cache_read': 0}})]"
      ]
     },
     "execution_count": 9,
     "metadata": {},
     "output_type": "execute_result"
    }
   ],
   "source": [
    "perguntas = [\n",
    "    'o que é o céu?',\n",
    "    'o que é a terra',\n",
    "    'o que são as estrelas?'\n",
    "]\n",
    "\n",
    "llm.batch(perguntas)"
   ]
  },
  {
   "cell_type": "markdown",
   "id": "124cdd68",
   "metadata": {},
   "source": [
    "ChatModels\n",
    "\n",
    "ChatModels são compnentes centrais do LangChain\n",
    "Um modelo de chat é um modelo de linguagem que utiliza mensagens de chat como entradas e retorna mensagens de chat como saída\n",
    "\n",
    "o LangChain possui integrações com vários provedores de modelo (OpenAI, Cohere, Hugging Face, etc.) e expóe uma interface padrão para interagir com todos esses modelos\n",
    "\n",
    "\n",
    "\n",
    "\n",
    "Existem 5 tipos diferentes de mensagens:\n",
    "\n",
    "HumanMessage: Isso representa uma mensagem do usuário. Geralmente consiste apenas de conteúdo.\n",
    "\n",
    "AIMessage: Isso representa uma mensagem do modelo. Pode ter additional_kwargs incluídos - por exemplo, tool_calls se estiver usando chamadas de ferramentas da OpenAI.\n",
    "\n",
    "SystemMessage: Isso representa uma mensagem do sistema, que indica ao modelo como se comportar. Geralmente consiste apenas de conteúdo. Nem todo modelo suporta isso.\n",
    "\n",
    "FunctionMessage: Isso representa o resultado de uma chamada de função. Além do papel e conteúdo, esta mensagem tem um parâmetro de nome que transmite o nome da função que foi chamada para produzir este resultado.\n",
    "\n",
    "ToolMessage: Isso representa o resultado de uma chamada de ferramenta. Isso é distinto de uma Mensagem de Função a fim de corresponder aos tipos de mensagens de função e ferramenta da OpenAI. Além do papel e conteúdo, esta mensagem tem um parâmetro tool_call_id que transmite o id da chamada à ferramenta que foi feita para produzir este resultado."
   ]
  },
  {
   "cell_type": "code",
   "execution_count": 6,
   "id": "a6011245",
   "metadata": {},
   "outputs": [
    {
     "name": "stdout",
     "output_type": "stream",
     "text": [
      "Depende! Se estivermos falando de maçãs, são duas maçãs. Se estivermos falando de opiniões, ainda pode ser só uma, uma opinião muito forte!  😜\n"
     ]
    }
   ],
   "source": [
    "# importando libs \n",
    "from langchain_google_genai import ChatGoogleGenerativeAI\n",
    "from langchain_core.messages import HumanMessage, SystemMessage\n",
    "\n",
    "chat = ChatGoogleGenerativeAI(model='gemini-1.5-flash')\n",
    "\n",
    "mensagens = [\n",
    "    SystemMessage(content='Você é um assistente que conta piadas.'),\n",
    "    HumanMessage(content='Quanto é 1 + 1?')\n",
    "]\n",
    "\n",
    "resposta = chat.invoke(mensagens)\n",
    "\n",
    "print(resposta.content)"
   ]
  },
  {
   "cell_type": "markdown",
   "id": "4873d1b6",
   "metadata": {},
   "source": [
    "ChatModels com stream"
   ]
  },
  {
   "cell_type": "code",
   "execution_count": 12,
   "id": "00896a78",
   "metadata": {},
   "outputs": [
    {
     "name": "stdout",
     "output_type": "stream",
     "text": [
      "Depende! Se estivermos falando de números, a resposta é 2.  Mas se estivermos falando de 1 copo de água + 1 copo de água... você terá um copo com 2 copos de água! 😉"
     ]
    }
   ],
   "source": [
    "#Import libs\n",
    "\n",
    "from langchain_google_genai import ChatGoogleGenerativeAI\n",
    "from langchain_core.messages import HumanMessage, SystemMessage\n",
    "\n",
    "chat = ChatGoogleGenerativeAI(model= 'gemini-1.5-flash-latest')\n",
    "\n",
    "menssagens = [\n",
    "    SystemMessage(content='Você é um assistente virtual estilo JARVIS, fala de forma inteligente e pontual e serio'),\n",
    "    HumanMessage(content='Quanto é 1 + 1? ')\n",
    "]\n",
    "\n",
    "for chunk in chat.stream(mensagens): \n",
    "    print(chunk.content, end='')"
   ]
  }
 ],
 "metadata": {
  "kernelspec": {
   "display_name": ".venv",
   "language": "python",
   "name": "python3"
  },
  "language_info": {
   "codemirror_mode": {
    "name": "ipython",
    "version": 3
   },
   "file_extension": ".py",
   "mimetype": "text/x-python",
   "name": "python",
   "nbconvert_exporter": "python",
   "pygments_lexer": "ipython3",
   "version": "3.13.5"
  }
 },
 "nbformat": 4,
 "nbformat_minor": 5
}
