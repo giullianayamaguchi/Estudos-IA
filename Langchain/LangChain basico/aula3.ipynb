{
 "cells": [
  {
   "cell_type": "markdown",
   "id": "2c5bca38",
   "metadata": {},
   "source": [
    "# Conceitos avançados - Output Parsers\n",
    "  \n",
    "Os analisadores de saída são responsáveis por pegar a saída de um LLM e transformá-la em um formato mais adequado. Isso é muito útil quando você está usando LLMs para gerar qualquer forma de dados estruturados.   \n",
    "\n",
    "  Digamos que temos a seguinte review de um produto\n",
    "\n",
    "  > \"Este soprador de folhas é bastante incrível. Ele tem quatro configurações: sopro de vela, brisa suave, cidade ventosa e tornado. Chegou em dois dias, bem a tempo para o     presente de aniversário da minha esposa. Acho que minha esposa gostou tanto que ficou sem palavras. Até agora, fui o único a usá-lo, e tenho usado em todas as manhãs   alternadas para limpar as folhas do nosso gramado. É um pouco mais caro do que os outros sopradores de folhas disponíveis no mercado, mas acho que vale a pena pelas características extras.\"\n",
    "\n",
    "  E eu quero que o modelo  de linguagem processe esta Review para estrutura--la no seguinte formato: \n",
    "\n",
    "  ```python\n",
    "  {\n",
    "  \"presente\": true,\n",
    "  \"dias_entrega\": 2,\n",
    "  \"percepcao_de_valor\": [\"um pouco mais caro do que os outros sopradores de folhas disponíveis no mercado\"]\n",
    "}"
   ]
  },
  {
   "cell_type": "markdown",
   "id": "a34567f5",
   "metadata": {},
   "source": [
    "## Forma tradicional - sem Output Parsers"
   ]
  },
  {
   "cell_type": "code",
   "execution_count": null,
   "id": "f87fca60",
   "metadata": {},
   "outputs": [
    {
     "name": "stdout",
     "output_type": "stream",
     "text": [
      "[HumanMessage(content='\\n\\npara o texto a seguir, extraia as seguiintes informações: \\npresente: o item foi comprado para algume? True caso verdadeiro\\ne Falso caso falso ou nãi tenha a informação\\n\\ndias_entrega: Quantos dias para a entrega chegar?\\nSe a resposta não for encontrada retorne -1\\n\\npercepcao_de_valor: extraia qualquer frase sobre o valor ou preço do produto. Retorne como uma lista de python\\n\\nTexto: Este soprador de folhas é bastante incrível. Ele tem quatro configurações: sopro de vela, brisa suave, cidade ventosa e tornado. Chegou em dois dias, bem a tempo para o presente de aniversário da minha esposa. Acho que minha esposa gostou tanto que ficou sem palavras. Até agora, fui o único a usá-lo, e tenho usado em todas as manhãs   alternadas para limpar as folhas do nosso gramado. É um pouco mais caro do que os outros sopradores de folhas disponíveis no mercado, mas acho que vale a pena pelas características extras.\\n\\nRetorn a resposta em formato Json\\n', additional_kwargs={}, response_metadata={})]\n"
     ]
    }
   ],
   "source": [
    "# importando libs\n",
    "\n",
    "from langchain_google_genai import ChatGoogleGenerativeAI\n",
    "from langchain.prompts import ChatPromptTemplate\n",
    "from dotenv import load_dotenv\n",
    "\n",
    "# carregar arquivo .env\n",
    "load_dotenv()\n",
    "\n",
    "review_cliente= 'Este soprador de folhas é bastante incrível. Ele tem quatro configurações: sopro de vela, brisa suave, cidade ventosa e tornado. ' \\\n",
    "'Chegou em dois dias, bem a tempo para o presente de aniversário da minha esposa. ' \\\n",
    "'Acho que minha esposa gostou tanto que ficou sem palavras. Até agora, fui o único a usá-lo, e tenho usado em todas as manhãs   ' \\\n",
    "'alternadas para limpar as folhas do nosso gramado. É um pouco mais caro do que os outros sopradores de folhas disponíveis no mercado, ' \\\n",
    "'mas acho que vale a pena pelas características extras.'\n",
    "\n",
    "review_template = ChatPromptTemplate.from_template( '''\n",
    "\n",
    "para o texto a seguir, extraia as seguiintes informações: \n",
    "presente: o item foi comprado para alguém? True caso verdadeiro\n",
    "e Falso caso falso ou nãi tenha a informação\n",
    "\n",
    "dias_entrega: Quantos dias para a entrega chegar?\n",
    "Se a resposta não for encontrada retorne -1\n",
    "\n",
    "percepcao_de_valor: extraia qualquer frase sobre o valor ou preço do produto. Retorne como uma lista de python\n",
    "\n",
    "Texto: {review}\n",
    "\n",
    "Retorn a resposta em formato Json\n",
    "'''\n",
    ")\n",
    "\n",
    "print(review_template.format_messages(review=review_cliente))"
   ]
  },
  {
   "cell_type": "code",
   "execution_count": 6,
   "id": "ee12fcc6",
   "metadata": {},
   "outputs": [
    {
     "name": "stdout",
     "output_type": "stream",
     "text": [
      "```json\n",
      "{\n",
      "  \"presente\": true,\n",
      "  \"dias_entrega\": 2,\n",
      "  \"percepcao_de_valor\": [\n",
      "    \"É um pouco mais caro do que os outros sopradores de folhas disponíveis no mercado, mas acho que vale a pena pelas características extras.\"\n",
      "  ]\n",
      "}\n",
      "```\n"
     ]
    }
   ],
   "source": [
    "chat = ChatGoogleGenerativeAI(model='gemini-1.5-flash')\n",
    "resposta = chat.invoke(review_template.format_messages(review=review_cliente))\n",
    "\n",
    "print(resposta.content)"
   ]
  },
  {
   "cell_type": "markdown",
   "id": "ac81b0e8",
   "metadata": {},
   "source": [
    "## Melhor forma e mais aconcelhada - Com Output Parsers"
   ]
  },
  {
   "cell_type": "code",
   "execution_count": 7,
   "id": "f14bee33",
   "metadata": {},
   "outputs": [],
   "source": [
    "# import libs\n",
    "\n",
    "\n",
    "from langchain.output_parsers import ResponseSchema\n",
    "from langchain.output_parsers import StructuredOutputParser\n",
    "\n"
   ]
  },
  {
   "cell_type": "code",
   "execution_count": 9,
   "id": "2a4646a4",
   "metadata": {},
   "outputs": [
    {
     "name": "stdout",
     "output_type": "stream",
     "text": [
      "The output should be a markdown code snippet formatted in the following schema, including the leading and trailing \"```json\" and \"```\":\n",
      "\n",
      "```json\n",
      "{\n",
      "\t\"presente\": bool  // o item foi comprado para alguém? True caso verdadeiro e Falso caso falso ou nãi tenha a informação\n",
      "\t\"dias_entrega\": int  // Quantos dias para a entrega chegar? Se a resposta não for encontrada retorne -1\n",
      "\t\"percepcao_de_valor\": list  // extraia qualquer frase sobre o valor ou preço do produto Retorne como uma lista de python\n",
      "}\n",
      "```\n"
     ]
    }
   ],
   "source": [
    "# criando Schema\n",
    "\n",
    "schema_presente = ResponseSchema(\n",
    "    name='presente',\n",
    "    type='bool',\n",
    "    description='o item foi comprado para alguém? True caso verdadeiro e Falso caso falso ou nãi tenha a informação'\n",
    ")\n",
    "\n",
    "schema_entrega = ResponseSchema(\n",
    "    name='dias_entrega',\n",
    "    type='int',\n",
    "    description='Quantos dias para a entrega chegar? Se a resposta não for encontrada retorne -1'\n",
    ")\n",
    "\n",
    "schema_valor = ResponseSchema(\n",
    "    name='percepcao_de_valor',\n",
    "    type='list',\n",
    "    description='extraia qualquer frase sobre o valor ou preço do produto Retorne como uma lista de python'\n",
    "\n",
    ")\n",
    "\n",
    "response_schemas = [schema_presente,\n",
    "                  schema_entrega,\n",
    "                  schema_valor]\n",
    "\n",
    "output_parser = StructuredOutputParser.from_response_schemas(response_schemas)\n",
    "\n",
    "schema_formatado = output_parser.get_format_instructions()\n",
    "\n",
    "print(schema_formatado)"
   ]
  },
  {
   "cell_type": "markdown",
   "id": "5965185a",
   "metadata": {},
   "source": [
    "## Fazendo exerciccio do jeito correto e indicado ( Com OutPut Parser)"
   ]
  },
  {
   "cell_type": "code",
   "execution_count": 11,
   "id": "f5f5e6d7",
   "metadata": {},
   "outputs": [],
   "source": [
    "review_cliente = 'Este soprador de folhas é bastante incrível. Ele tem quatro configurações: sopro de vela, brisa suave, cidade ventosa e tornado. ' \\\n",
    "'Chegou em dois dias, bem a tempo para o presente de aniversário da minha esposa. ' \\\n",
    "'Acho que minha esposa gostou tanto que ficou sem palavras. Até agora, fui o único a usá-lo, e tenho usado em todas as manhãs   ' \\\n",
    "'alternadas para limpar as folhas do nosso gramado. É um pouco mais caro do que os outros sopradores de folhas disponíveis no mercado, ' \\\n",
    "'mas acho que vale a pena pelas características extras.'\n"
   ]
  },
  {
   "cell_type": "code",
   "execution_count": 20,
   "id": "8712a4b7",
   "metadata": {},
   "outputs": [],
   "source": [
    "# importando libs\n",
    "\n",
    "from langchain_google_genai import ChatGoogleGenerativeAI\n",
    "from langchain.prompts import PromptTemplate\n",
    "from dotenv import load_dotenv\n",
    "\n",
    "from langchain.output_parsers import StructuredOutputParser, ResponseSchema\n",
    "\n"
   ]
  },
  {
   "cell_type": "code",
   "execution_count": null,
   "id": "79a0a031",
   "metadata": {},
   "outputs": [],
   "source": [
    "\n",
    "\n",
    "#criando schemas\n",
    "\n",
    "schema_presente = ResponseSchema(\n",
    "    name='presente',\n",
    "    type='bool',\n",
    "    description='o item foi comprado para alguém? True caso verdadeiro  \\\n",
    "          e Falso caso falso ou nãi tenha a informação'    \n",
    ")\n",
    "\n",
    "schema_entrega= ResponseSchema(\n",
    "    name='dias_entrega',\n",
    "    type='int',\n",
    "    description='Quantos dias para a entrega chegar?  \\\n",
    "Se a resposta não for encontrada retorne -1'   \n",
    ")\n",
    "\n",
    "schema_valor =ResponseSchema (\n",
    "    name='percepcao_de_valor',\n",
    "    type='list',\n",
    "    description='extraia qualquer frase sobre o valor ou preço do produto. Retorne como uma lista de python'\n",
    ")\n",
    "\n",
    "response_schemas = [schema_presente,\n",
    "                    schema_entrega,\n",
    "                    schema_valor\n",
    "    ]\n",
    "\n",
    "output_parser = StructuredOutputParser.from_response_schemas(response_schemas)\n",
    "\n",
    "schema_formatado = output_parser.get_format_instructions()"
   ]
  },
  {
   "cell_type": "code",
   "execution_count": 34,
   "id": "831da462",
   "metadata": {},
   "outputs": [],
   "source": [
    "# enviando para ia \n",
    "\n",
    "review_template = ChatPromptTemplate.from_template(\n",
    "''' \n",
    "\n",
    "para o texto a seguir, extraia as seguintes informações: \n",
    "presente, dias_entrega e percepcao_de_valor\n",
    "\n",
    "Texto: {review}\n",
    "\n",
    "{schema}\n",
    "''', partial_variables={'schema': schema_formatado})\n",
    "\n"
   ]
  },
  {
   "cell_type": "code",
   "execution_count": 31,
   "id": "7afab0e3",
   "metadata": {},
   "outputs": [
    {
     "name": "stdout",
     "output_type": "stream",
     "text": [
      "```json\n",
      "{\n",
      "  \"presente\": true,\n",
      "  \"dias_entrega\": 2,\n",
      "  \"percepcao_de_valor\": [\"É um pouco mais caro do que os outros sopradores de folhas disponíveis no mercado, mas acho que vale a pena pelas características extras.\"]\n",
      "}\n",
      "```\n"
     ]
    }
   ],
   "source": [
    "## chamando chjat para retorno da resposta\n",
    "\n",
    "llm = ChatGoogleGenerativeAI(model='gemini-1.5-flash')\n",
    "\n",
    "resposta = llm.invoke(review_template.format_messages(review=review_cliente))\n",
    "\n",
    "print(resposta.content)"
   ]
  },
  {
   "cell_type": "code",
   "execution_count": null,
   "id": "38dde877",
   "metadata": {},
   "outputs": [
    {
     "data": {
      "text/plain": [
       "['É um pouco mais caro do que os outros sopradores de folhas disponíveis no mercado, mas acho que vale a pena pelas características extras.']"
      ]
     },
     "execution_count": 33,
     "metadata": {},
     "output_type": "execute_result"
    }
   ],
   "source": [
    "# agora é possivel dividir a resposta, visto que agora a resposta é um dicionário\n",
    "\n",
    "resposta_json = output_parser.parse(resposta.content)\n",
    "\n",
    "resposta_json['percepcao_de_valor']"
   ]
  }
 ],
 "metadata": {
  "kernelspec": {
   "display_name": ".venv",
   "language": "python",
   "name": "python3"
  },
  "language_info": {
   "codemirror_mode": {
    "name": "ipython",
    "version": 3
   },
   "file_extension": ".py",
   "mimetype": "text/x-python",
   "name": "python",
   "nbconvert_exporter": "python",
   "pygments_lexer": "ipython3",
   "version": "3.13.5"
  }
 },
 "nbformat": 4,
 "nbformat_minor": 5
}
