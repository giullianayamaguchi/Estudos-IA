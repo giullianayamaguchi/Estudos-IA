{
 "cells": [
  {
   "cell_type": "markdown",
   "id": "b92e87c0",
   "metadata": {},
   "source": [
    "# Engenharia de Prompt \n"
   ]
  },
  {
   "cell_type": "markdown",
   "id": "73d163c9",
   "metadata": {},
   "source": [
    "## Conceitos gerais de LLM\n",
    "\n",
    "* Serve para processar texto, ou seja, tem uma entrada como texto, processa r retorna um texto\n",
    "\n",
    "* Os modelos avançados tem bilhões de parâmentros (redes neurais), -algo similar a neuronios no cérebro humano\n",
    "\n",
    "* Quanto maior os parâmetros, mais avançado \n",
    "\n",
    "* O modelo usa tb de informações, ensina o modelo, e comprimi com os parâmetros (se perde um pouco de informação, mas fica tudo unido e de fácio acesso)\n",
    "\n",
    "* Um modelo básico não é treinado para responder somente para continuar as perguntas\n",
    " * Ex: \n",
    "    | Pergunta                    | Modelo Base                                                      | \n",
    "    |:---------------------------:|:----------------------------------------------------------------:|\n",
    "    | Era uma vez um unicórnio    | Que vivia em uma floresta mágica                                 |\n",
    "    | Qual a capital do Brasil?   | Qual é a maior cidade do Brasil? Qual é a população do Brasil?   | \n",
    "\n",
    "* Para que ele aprenda a responder, é necessário um especialista para responder as perguntas e enviar esses dados para um novo treinamento, assim aprendendo que deve responder \n"
   ]
  },
  {
   "cell_type": "markdown",
   "id": "2546a182",
   "metadata": {},
   "source": [
    "# Conceitos sobre Engenharia de Prompt\n",
    "\n",
    "## Principios de um bom Prompt\n",
    "\n",
    "* Cria o Prompt -> Envia para o Modelo LLM -> tem o resultado\n",
    "\n",
    "\n",
    "### OS 2 Princípios para prompts bons\n",
    "\n",
    "* 1 Princípio - Escrever uma instrução bem claro e expecício\n",
    "\n",
    "* 2 Princípio - De ao modelo trempo para pensar \n",
    "\n",
    "\n",
    "### Limitações \n",
    "\n",
    "* Alucinações - da resposta acertiva, mas sem sentido\n",
    "\n",
    "* Vies - por eles aprenderem com dados na internet podendo seguir uma lçinha de raciocinio por ex racista, machista\n",
    "\n",
    "### Processo \n",
    "\n",
    "* Armazenar, analisar as saídas e melhorar\n",
    "\n",
    "* Ideia -> Implementa -> resultado Experimental -> Análise de Erro -> início\n",
    "\n",
    "\n"
   ]
  }
 ],
 "metadata": {
  "language_info": {
   "name": "python"
  }
 },
 "nbformat": 4,
 "nbformat_minor": 5
}
