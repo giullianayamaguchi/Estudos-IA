{
 "cells": [
  {
   "cell_type": "markdown",
   "id": "393f3d40",
   "metadata": {},
   "source": [
    "# Engenharia de Prompt "
   ]
  },
  {
   "cell_type": "markdown",
   "id": "54536887",
   "metadata": {},
   "source": [
    "## Clareza \n",
    "\n",
    "* Com contexto ele vai saber como dar uma resposta para essa pessoa / contexto\n",
    "\n",
    "## Especificidade\n",
    "\n",
    "* Detalhemento para que o modelo tenha mais informações deixando a resposta mais precisas\n",
    "\n",
    "## Problemas\n",
    "\n",
    "* Sobrecarga - Muita informação, as vezes desnecessárias, fazendo o modelo se perder \n",
    "\n",
    "* Ambiguidade - não coloque possibilidades\n",
    "\n",
    "* Complexidade - não utilize termos técnicos pouco utilizados, ele pode se confundir, use linguagem simples, que qualquer um pode entender"
   ]
  },
  {
   "cell_type": "markdown",
   "id": "a4e130f8",
   "metadata": {},
   "source": [
    "## Elementos de um prompt \n",
    "\n",
    "* Contexto - sempre adicionar um contexto para o modelo se cituar e dar respostas mais focadas ao seu caso\n",
    "    * Ex: Eu sou um assessor financeiro de pessoas jovens, com até 30 anos de idade e com baixo poder aquisitivo. Ajudo elas a desenvolverem uma educação financeiro e formo planos adequados para longo prazo, para clientes que querem começar cedo a investir pensando em suas aposentadorias.\n",
    "\n",
    "* instrução - o que quer que o modelo faça\n",
    "    * Ex: Desenvolva um plano de investimento efiacaz, definindo tipos de investimentos, proporções entre investimentos e diversificação para o perfil do cliente abaixo.\n",
    "\n",
    "* Dados de entrada - é modificcado, aposer do contexto e instrução serem o mesmo\n",
    "    * Ex: Um homem de 25 anos, com baixa propensão a risco e consegue aportar 1000 reais por mês em novos investimentos. Hoje ele já possui 50 mil reais investidos em ações.\n",
    "\n",
    "* Indicador de saída - resposta do modelo (proccessa contexto e intrução de acorco com a entrada)\n",
    "    * Ex: Plano de investimento:"
   ]
  },
  {
   "cell_type": "markdown",
   "id": "87b7ff14",
   "metadata": {},
   "source": [
    "## Persona, Público e Exemplos\n",
    "\n",
    "* Para melhorar e refinar o prompt\n",
    "\n",
    "* Persona - adicionar personalidade na resposta \n",
    "    * Ex: Escreva uma história curta de magia no estilo da J.K. Rowling\n",
    "          Escreva um poema ao estilo de poema do romantismos\n",
    "          Eu sou um assessor financeiro de pessoas jovens, com até 30 anos de idade e com baixo poder aquisitivo. Ajudo elas a desenvolverem uma educação financeiro e  formo    planos adequados para longo prazo, para clientes que querem começar cedo a investir pensando em suas aposentadorias.\n",
    "\n",
    "\n",
    "* Público - direcionando para um público\n",
    "    * Ex: Escreva uma história simples de mágia para crianças que tem medo do escuro \n",
    "          Desenvolva um plano de aula sobre relatividade para alunos estudando para o vestibular \n",
    "\n",
    "* Exemplo - enviar um exemplo para que o modelo se baseei\n",
    "    * Ex: Aqui está um exemplo do meu estilo de escrita de emails:\n",
    "\n",
    "            Fala, meu amigo!\n",
    "            Como estamos?\n",
    "            O que você acha de marcamos um dia para conversar?\n",
    "            Tamo junto!\n",
    "            Abraço\n",
    "\n",
    "            Imitando o estilo do email anterior, crie um novo email para realizar a ação a seguir.\n",
    "            Marcar uma conversa no \"Bar do Antonio\" às 20h e avisar que você convidou o Pedro também."
   ]
  },
  {
   "cell_type": "markdown",
   "id": "e1fc7c32",
   "metadata": {},
   "source": [
    "## Delimitadores e Saídas Estruturadas"
   ]
  },
  {
   "cell_type": "markdown",
   "id": "db10a449",
   "metadata": {},
   "source": [
    "* Delimitadores - delimita algo que o modelo não pode esquecer \n",
    "    *   ### Exemplos de delimitadores para usar em prompts\n",
    "\n",
    "            #### 1. Símbolos repetidos\n",
    "            ```\n",
    "            ####  \n",
    "            ***  \n",
    "            ---  \n",
    "            ===  \n",
    "            ~~~  \n",
    "            +++  \n",
    "            ///  \n",
    "            ```\n",
    "\n",
    "            #### 2. Colchetes e chaves\n",
    "            ```\n",
    "            [INÍCIO] ... [FIM]  \n",
    "            {INÍCIO} ... {FIM}  \n",
    "            <INÍCIO> ... <FIM>  \n",
    "            ```\n",
    "\n",
    "\n",
    "        Ex: Delimitado por #### está um exemplo do meu estilo de escrita de emails:\n",
    "\n",
    "            Fala, meu amigo!\n",
    "            Como estamos?\n",
    "            O que você acha de marcamos um dia para conversar?\n",
    "            Tamo junto!\n",
    "            Abraço\n",
    "\n",
    "            Imitando o estilo do email anterior, crie um novo email para realizar a ação a seguir.\n",
    "            Marcar uma conversa no \"Bar do Antonio\" às 20h e avisar que você convidou o Pedro também\n",
    "\n",
    "* Saídas Estruturadas - pedir a resposta de forma estrutrada \n",
    "    * Ex: Qual o nome das mães das seguintes pessoas: \n",
    "        Ronaldinho Gaúcho, Neymar, Rivaldo\n",
    "        Retorne a resposta apenas com os nomes completos das mães separados por vírgula\n",
    "\n",
    "\n"
   ]
  },
  {
   "cell_type": "markdown",
   "id": "feaaf936",
   "metadata": {},
   "source": [
    "## Prompt Zero, One e Few-Shot"
   ]
  },
  {
   "cell_type": "markdown",
   "id": "457c7437",
   "metadata": {},
   "source": [
    "\n",
    "- **Zero-Shot** - Sem Exemplo (coisa simples e cordenado)    \n",
    "*Ex:*   \n",
    "  Classifique o texto como neutro, positivo ou negativo   \n",
    "  Texto: Eu acho que as férias estão ok.   \n",
    "  Sentimento: \n",
    "\n",
    "**Retorno:** `Neutro`\n",
    "\n",
    "- **One Shot**- Um exemplo (Seguir um modelo específico)   \n",
    "*Ex:*  \n",
    "  Um \"whatpu\" é um animal pequeno e peludo nativo da Tanzânia.   \n",
    "  Um exemplo de uma frase que usa a palavra whatpu é:  \n",
    "\n",
    "  Estávamos viajando na África e vimos esses whatpus muito fofos. \n",
    "\n",
    "  Realizar um \"farduddle\" significa pular para cima e para baixo muito rápido.   \n",
    "  Um exemplo de uma frase que usa a palavra farduddle é:\n",
    "        \n",
    "    **Retorno:** `A criança estava tão animada que começou a farduddle de alegria`   \n",
    "\n",
    "\n",
    "- **Few-Shor** - Mais de uma exemplo (Seguir um padrão, mantendo mais consistente.)     \n",
    "*Ex:*\n",
    "  Isso é incrível! // Positivo   \n",
    "  Isso é ruim! // Negativo   \n",
    "  Uau, esse filme foi incrível! // Positivo   \n",
    "  Que programa horrível! //   \n",
    "    \n",
    "    **Retorno:** `Negativo`"
   ]
  },
  {
   "cell_type": "markdown",
   "id": "f6d345f6",
   "metadata": {},
   "source": []
  },
  {
   "cell_type": "markdown",
   "id": "e7cd3860",
   "metadata": {},
   "source": [
    "## Role Play"
   ]
  },
  {
   "cell_type": "markdown",
   "id": "1908e854",
   "metadata": {},
   "source": [
    "- Atribuir função para a IA   \n",
    "\n",
    "- Muda o tipo de resposta - resposta mais relevante\n",
    "\n",
    "**Ex:**\n",
    "    Assuma o papel de [Profissão ou perfil]. Realize a tarefa[x], com objetivo [y], usando [tom, etilo, abordagem]\n",
    "\n",
    "- Aumenta persoalização da resposta \n",
    "\n",
    "- Força a seguir uma linguagem (tom) mais apropriado para resposta\n",
    "\n",
    "- Deixa interação e resposta mais humanas\n",
    "\n"
   ]
  },
  {
   "cell_type": "markdown",
   "id": "9c1fdbb3",
   "metadata": {},
   "source": [
    "## Comparação e Análise Crítica"
   ]
  },
  {
   "cell_type": "markdown",
   "id": "8504b00e",
   "metadata": {},
   "source": [
    "- Quando\n",
    "\n",
    "* Comparação de produtos/serviços\n",
    "\n",
    "* prós/ contras\n",
    "\n",
    "* Avaliação críticas de ideias \n",
    "\n",
    "* Apois para questões racionais \n",
    "\n",
    "**Ex:**\n",
    "    Compare [opção A] e [Opçao B] com base nos critérios [1,2,3]. Em seguida, faça uma análise crítica e indique qual a opçõa é mais adequada para [situação específica]\n",
    "\n",
    "* Ajuda na tomada de decisões mais inteligentes\n"
   ]
  }
 ],
 "metadata": {
  "language_info": {
   "name": "python"
  }
 },
 "nbformat": 4,
 "nbformat_minor": 5
}
